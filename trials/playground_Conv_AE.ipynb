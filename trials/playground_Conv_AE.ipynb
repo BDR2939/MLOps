{
 "cells": [
  {
   "cell_type": "code",
   "execution_count": 1,
   "metadata": {},
   "outputs": [],
   "source": [
    "# libraries importing\n",
    "import pandas as pd\n",
    "import matplotlib.pyplot as plt\n",
    "import seaborn as sns\n",
    "import numpy as np\n",
    "import os\n",
    "\n",
    "import sys\n",
    "sys.path.append('../')\n",
    "\n",
    "from algorithms.Conv_AE import Conv_AE\n",
    "from data_processing.process_data import process_data, add_rolling_stats\n",
    "\n",
    "from sklearn.decomposition import PCA\n",
    "from sklearn.pipeline import Pipeline\n",
    "from sklearn.compose import ColumnTransformer\n",
    "from sklearn.preprocessing import OneHotEncoder, StandardScaler\n",
    "from sklearn.feature_selection import RFE\n",
    "from sklearn import metrics\n",
    "from sklearn.svm import SVR\n",
    "from sklearn.metrics import precision_score, recall_score, f1_score, accuracy_score\n",
    "from sklearn.ensemble import RandomForestClassifier\n",
    "\n",
    "from feature_engine.selection import SmartCorrelatedSelection, DropConstantFeatures, DropDuplicateFeatures, DropFeatures, DropCorrelatedFeatures, SelectBySingleFeaturePerformance, RecursiveFeatureAddition\n",
    "from feature_engine.outliers import Winsorizer"
   ]
  },
  {
   "cell_type": "markdown",
   "metadata": {},
   "source": [
    "## Data loading"
   ]
  },
  {
   "cell_type": "code",
   "execution_count": 2,
   "metadata": {},
   "outputs": [],
   "source": [
    "datasets = process_data()\n",
    "\n",
    "valve1_X =  datasets[\"valve1_X\"]\n",
    "valve1_y = datasets[\"valve1_y\"]\n",
    "valve2_X = datasets[\"valve2_X\"]\n",
    "valve2_y = datasets[\"valve2_y\"]\n",
    "other_anomaly_X = datasets[\"other_anomaly_X\"]\n",
    "other_anomaly_y = datasets[\"other_anomaly_y\"]"
   ]
  },
  {
   "cell_type": "code",
   "execution_count": 3,
   "metadata": {},
   "outputs": [],
   "source": [
    "# hyperparameters selection\n",
    "N_STEPS = 120\n",
    "Q = 0.3 # quantile for upper control limit (UCL) selection\n",
    "model = Conv_AE()"
   ]
  },
  {
   "cell_type": "code",
   "execution_count": 4,
   "metadata": {},
   "outputs": [],
   "source": [
    "def test_train_split(df_X, df_y):\n",
    "    size_train = int(df_X.shape[0]*0.8)\n",
    "    size_test = df_X.shape[0] - size_train\n",
    "    x_train = df_X[:size_train]\n",
    "    y_train = df_y[:size_train].anomaly\n",
    "    x_test = df_X[-size_test:]\n",
    "    y_test = df_y[-size_test:].anomaly\n",
    "    return x_train, y_train, x_test, y_test"
   ]
  },
  {
   "cell_type": "code",
   "execution_count": 5,
   "metadata": {},
   "outputs": [],
   "source": [
    "x_train_valve1, y_train_valve1, x_test_valve1, y_test_valve1 = test_train_split(valve1_X, valve1_y)\n",
    "x_train_valve2, y_train_valve2, x_test_valve2, y_test_valve2 = test_train_split(valve2_X, valve2_y)\n",
    "x_train_other_anomaly, y_train_other_anomaly, x_test_other_anomaly, y_test_other_anomaly = test_train_split(other_anomaly_X, other_anomaly_y)"
   ]
  },
  {
   "cell_type": "code",
   "execution_count": 6,
   "metadata": {},
   "outputs": [],
   "source": [
    "# Generated training sequences for use in the model.\n",
    "def create_sequences(values, time_steps=N_STEPS):\n",
    "    output = []\n",
    "    for i in range(len(values) - time_steps + 1):\n",
    "        output.append(values[i : (i + time_steps)])\n",
    "    return np.stack(output)"
   ]
  },
  {
   "cell_type": "code",
   "execution_count": 7,
   "metadata": {},
   "outputs": [],
   "source": [
    "x_train_steps_valve1 = create_sequences(np.array([row.values for i, row in x_train_valve1.iterrows()]), N_STEPS)\n",
    "x_test_steps_valve1 = create_sequences(np.array([row.values for i, row in x_test_valve1.iterrows()]), N_STEPS)\n",
    "\n",
    "x_train_steps_valve2 = create_sequences(np.array([row.values for i, row in x_train_valve2.iterrows()]), N_STEPS)\n",
    "x_test_steps_valve2 = create_sequences(np.array([row.values for i, row in x_test_valve2.iterrows()]), N_STEPS)\n",
    "\n",
    "x_train_steps_other_anomaly = create_sequences(np.array([row.values for i, row in x_train_other_anomaly.iterrows()]), N_STEPS)\n",
    "x_test_steps_other_anomaly = create_sequences(np.array([row.values for i, row in x_test_other_anomaly.iterrows()]), N_STEPS)"
   ]
  },
  {
   "cell_type": "markdown",
   "metadata": {},
   "source": [
    "## Base models\n",
    "#### Test model for valve 1"
   ]
  },
  {
   "cell_type": "code",
   "execution_count": 8,
   "metadata": {},
   "outputs": [
    {
     "name": "stderr",
     "output_type": "stream",
     "text": [
      "WARNING:absl:At this time, the v2.11+ optimizer `tf.keras.optimizers.Adam` runs slowly on M1/M2 Macs, please use the legacy Keras optimizer instead, located at `tf.keras.optimizers.legacy.Adam`.\n"
     ]
    },
    {
     "name": "stdout",
     "output_type": "stream",
     "text": [
      "451/451 [==============================] - 1s 1ms/step\n"
     ]
    }
   ],
   "source": [
    "model.fit(x_train_steps_valve1)\n",
    "\n",
    "# results predicting\n",
    "residuals = pd.Series(np.sum(np.mean(np.abs(x_train_steps_valve1 - model.predict(x_train_steps_valve1)), axis=1), axis=1))\n",
    "UCL = residuals.quantile(Q)"
   ]
  },
  {
   "cell_type": "code",
   "execution_count": 9,
   "metadata": {},
   "outputs": [
    {
     "name": "stdout",
     "output_type": "stream",
     "text": [
      "451/451 [==============================] - 1s 1ms/step\n",
      "110/110 [==============================] - 0s 1ms/step\n"
     ]
    }
   ],
   "source": [
    "# train prediction\n",
    "cnn_residuals = pd.Series(np.sum(np.mean(np.abs(x_train_steps_valve1 - model.predict(x_train_steps_valve1)), axis=1), axis=1))\n",
    "\n",
    "# data i is an anomaly if samples [(i - timesteps + 1) to (i)] are anomalies\n",
    "anomalous_data = cnn_residuals > UCL\n",
    "anomalous_data_indices = []\n",
    "for data_idx in range(N_STEPS - 1, len(x_train_steps_valve1) - N_STEPS + 1):\n",
    "    if np.all(anomalous_data[data_idx - N_STEPS + 1 : data_idx]):\n",
    "        anomalous_data_indices.append(data_idx)\n",
    "\n",
    "yhat_train = pd.Series(data=0, index=x_train_valve1.index)\n",
    "yhat_train.iloc[anomalous_data_indices] = 1\n",
    "\n",
    "\n",
    "# test prediction\n",
    "cnn_residuals = pd.Series(np.sum(np.mean(np.abs(x_test_steps_valve1 - model.predict(x_test_steps_valve1)), axis=1), axis=1))\n",
    "\n",
    "# data i is an anomaly if samples [(i - timesteps + 1) to (i)] are anomalies\n",
    "anomalous_data = cnn_residuals > UCL\n",
    "anomalous_data_indices = []\n",
    "for data_idx in range(N_STEPS - 1, len(x_test_steps_valve1) - N_STEPS + 1):\n",
    "    if np.all(anomalous_data[data_idx - N_STEPS + 1 : data_idx]):\n",
    "        anomalous_data_indices.append(data_idx)\n",
    "\n",
    "yhat_test = pd.Series(data=0, index=x_test_valve1.index)\n",
    "yhat_test.iloc[anomalous_data_indices] = 1"
   ]
  },
  {
   "cell_type": "code",
   "execution_count": 10,
   "metadata": {},
   "outputs": [
    {
     "name": "stdout",
     "output_type": "stream",
     "text": [
      "Training accuracy 0.4625\n",
      "Testing accuracy 0.7561\n"
     ]
    }
   ],
   "source": [
    "print('Training accuracy {:.4f}'.format(accuracy_score(y_train_valve1, yhat_train)))\n",
    "print('Testing accuracy {:.4f}'.format(accuracy_score(y_test_valve1, yhat_test)))"
   ]
  },
  {
   "cell_type": "code",
   "execution_count": 11,
   "metadata": {},
   "outputs": [
    {
     "name": "stdout",
     "output_type": "stream",
     "text": [
      "Accuracy: 0.756124\n",
      "Precision: 0.794266\n",
      "Recall: 0.381377\n",
      "F1 score: 0.515317\n"
     ]
    }
   ],
   "source": [
    "accuracy = accuracy_score(y_test_valve1, yhat_test)\n",
    "print('Accuracy: %f' % accuracy)\n",
    "# precision tp / (tp + fp)\n",
    "precision = precision_score(y_test_valve1, yhat_test)\n",
    "print('Precision: %f' % precision)\n",
    "# recall: tp / (tp + fn)\n",
    "recall = recall_score(y_test_valve1, yhat_test)\n",
    "print('Recall: %f' % recall)\n",
    "# f1: 2 tp / (2 tp + fp + fn)\n",
    "f1 = f1_score(y_test_valve1, yhat_test)\n",
    "print('F1 score: %f' % f1)"
   ]
  },
  {
   "cell_type": "code",
   "execution_count": 12,
   "metadata": {},
   "outputs": [
    {
     "name": "stdout",
     "output_type": "stream",
     "text": [
      "False Alarm Rate: 0.05087572977481234\n",
      "Missing Alarm Rate: 0.6186234817813765\n"
     ]
    }
   ],
   "source": [
    "conf_matrix = metrics.confusion_matrix(y_test_valve1, yhat_test)\n",
    "\n",
    "TN, FP, FN, TP = conf_matrix.ravel()\n",
    "\n",
    "# Sensitivity, hit rate, recall, or true positive rate\n",
    "TPR = TP/(TP+FN)\n",
    "# Specificity or true negative rate\n",
    "TNR = TN/(TN+FP) \n",
    "# Precision or positive predictive value\n",
    "PPV = TP/(TP+FP)\n",
    "# Negative predictive value\n",
    "NPV = TN/(TN+FN)\n",
    "# Fall out or false positive rate FAR false alarm rate\n",
    "FPR = FP/(FP+TN)\n",
    "# False negative rate MAR missing alarm rate\n",
    "FNR = FN/(TP+FN)\n",
    "# False discovery rate\n",
    "FDR = FP/(TP+FP)\n",
    "\n",
    "# Overall accuracy\n",
    "ACC = (TP+TN)/(TP+FP+FN+TN)\n",
    "\n",
    "print(f'False Alarm Rate: {FPR}')\n",
    "print(f'Missing Alarm Rate: {FNR}')"
   ]
  },
  {
   "cell_type": "code",
   "execution_count": 13,
   "metadata": {},
   "outputs": [
    {
     "name": "stdout",
     "output_type": "stream",
     "text": [
      "              precision    recall  f1-score   support\n",
      "\n",
      "         0.0       0.75      0.95      0.84      2398\n",
      "         1.0       0.79      0.38      0.52      1235\n",
      "\n",
      "    accuracy                           0.76      3633\n",
      "   macro avg       0.77      0.67      0.68      3633\n",
      "weighted avg       0.76      0.76      0.73      3633\n",
      "\n"
     ]
    }
   ],
   "source": [
    "print(metrics.classification_report(y_test_valve1,yhat_test))"
   ]
  },
  {
   "cell_type": "markdown",
   "metadata": {},
   "source": [
    "#### Test model for valve 2"
   ]
  },
  {
   "cell_type": "code",
   "execution_count": 14,
   "metadata": {},
   "outputs": [
    {
     "name": "stderr",
     "output_type": "stream",
     "text": [
      "WARNING:absl:At this time, the v2.11+ optimizer `tf.keras.optimizers.Adam` runs slowly on M1/M2 Macs, please use the legacy Keras optimizer instead, located at `tf.keras.optimizers.legacy.Adam`.\n"
     ]
    },
    {
     "name": "stdout",
     "output_type": "stream",
     "text": [
      "105/105 [==============================] - 0s 1ms/step\n"
     ]
    }
   ],
   "source": [
    "model.fit(x_train_steps_valve2)\n",
    "\n",
    "# results predicting\n",
    "residuals = pd.Series(np.sum(np.mean(np.abs(x_train_steps_valve2 - model.predict(x_train_steps_valve2)), axis=1), axis=1))\n",
    "UCL = residuals.quantile(Q)"
   ]
  },
  {
   "cell_type": "code",
   "execution_count": 15,
   "metadata": {},
   "outputs": [
    {
     "name": "stdout",
     "output_type": "stream",
     "text": [
      "105/105 [==============================] - 0s 1ms/step\n",
      "24/24 [==============================] - 0s 1ms/step\n"
     ]
    }
   ],
   "source": [
    "# train prediction\n",
    "cnn_residuals = pd.Series(np.sum(np.mean(np.abs(x_train_steps_valve2 - model.predict(x_train_steps_valve2)), axis=1), axis=1))\n",
    "\n",
    "# data i is an anomaly if samples [(i - timesteps + 1) to (i)] are anomalies\n",
    "anomalous_data = cnn_residuals > UCL\n",
    "anomalous_data_indices = []\n",
    "for data_idx in range(N_STEPS - 1, len(x_train_steps_valve2) - N_STEPS + 1):\n",
    "    if np.all(anomalous_data[data_idx - N_STEPS + 1 : data_idx]):\n",
    "        anomalous_data_indices.append(data_idx)\n",
    "\n",
    "yhat_train = pd.Series(data=0, index=x_train_valve2.index)\n",
    "yhat_train.iloc[anomalous_data_indices] = 1\n",
    "\n",
    "\n",
    "# test prediction\n",
    "cnn_residuals = pd.Series(np.sum(np.mean(np.abs(x_test_steps_valve2 - model.predict(x_test_steps_valve2)), axis=1), axis=1))\n",
    "\n",
    "# data i is an anomaly if samples [(i - timesteps + 1) to (i)] are anomalies\n",
    "anomalous_data = cnn_residuals > UCL\n",
    "anomalous_data_indices = []\n",
    "for data_idx in range(N_STEPS - 1, len(x_test_steps_valve2) - N_STEPS + 1):\n",
    "    if np.all(anomalous_data[data_idx - N_STEPS + 1 : data_idx]):\n",
    "        anomalous_data_indices.append(data_idx)\n",
    "\n",
    "yhat_test = pd.Series(data=0, index=x_test_valve2.index)\n",
    "yhat_test.iloc[anomalous_data_indices] = 1\n",
    "  \n",
    "  "
   ]
  },
  {
   "cell_type": "code",
   "execution_count": 16,
   "metadata": {},
   "outputs": [
    {
     "name": "stdout",
     "output_type": "stream",
     "text": [
      "Training accuracy 0.5938\n",
      "Testing accuracy 0.7428\n"
     ]
    }
   ],
   "source": [
    "print('Training accuracy {:.4f}'.format(accuracy_score(y_train_valve2, yhat_train)))\n",
    "print('Testing accuracy {:.4f}'.format(accuracy_score(y_test_valve2, yhat_test)))"
   ]
  },
  {
   "cell_type": "code",
   "execution_count": 17,
   "metadata": {},
   "outputs": [
    {
     "name": "stdout",
     "output_type": "stream",
     "text": [
      "Accuracy: 0.742758\n",
      "Precision: 0.906103\n",
      "Recall: 0.488608\n",
      "F1 score: 0.634868\n"
     ]
    }
   ],
   "source": [
    "accuracy = accuracy_score(y_test_valve2, yhat_test)\n",
    "print('Accuracy: %f' % accuracy)\n",
    "# precision tp / (tp + fp)\n",
    "precision = precision_score(y_test_valve2, yhat_test)\n",
    "print('Precision: %f' % precision)\n",
    "# recall: tp / (tp + fn)\n",
    "recall = recall_score(y_test_valve2, yhat_test)\n",
    "print('Recall: %f' % recall)\n",
    "# f1: 2 tp / (2 tp + fp + fn)\n",
    "f1 = f1_score(y_test_valve2, yhat_test)\n",
    "print('F1 score: %f' % f1)"
   ]
  },
  {
   "cell_type": "code",
   "execution_count": 18,
   "metadata": {},
   "outputs": [
    {
     "name": "stdout",
     "output_type": "stream",
     "text": [
      "False Alarm Rate: 0.042735042735042736\n",
      "Missing Alarm Rate: 0.5113924050632911\n"
     ]
    }
   ],
   "source": [
    "conf_matrix = metrics.confusion_matrix(y_test_valve2, yhat_test)\n",
    "\n",
    "TN, FP, FN, TP = conf_matrix.ravel()\n",
    "\n",
    "# Sensitivity, hit rate, recall, or true positive rate\n",
    "TPR = TP/(TP+FN)\n",
    "# Specificity or true negative rate\n",
    "TNR = TN/(TN+FP) \n",
    "# Precision or positive predictive value\n",
    "PPV = TP/(TP+FP)\n",
    "# Negative predictive value\n",
    "NPV = TN/(TN+FN)\n",
    "# Fall out or false positive rate FAR false alarm rate\n",
    "FPR = FP/(FP+TN)\n",
    "# False negative rate MAR missing alarm rate\n",
    "FNR = FN/(TP+FN)\n",
    "# False discovery rate\n",
    "FDR = FP/(TP+FP)\n",
    "\n",
    "# Overall accuracy\n",
    "ACC = (TP+TN)/(TP+FP+FN+TN)\n",
    "\n",
    "print(f'False Alarm Rate: {FPR}')\n",
    "print(f'Missing Alarm Rate: {FNR}')"
   ]
  },
  {
   "cell_type": "code",
   "execution_count": 19,
   "metadata": {},
   "outputs": [
    {
     "name": "stdout",
     "output_type": "stream",
     "text": [
      "              precision    recall  f1-score   support\n",
      "\n",
      "         0.0       0.69      0.96      0.80       468\n",
      "         1.0       0.91      0.49      0.63       395\n",
      "\n",
      "    accuracy                           0.74       863\n",
      "   macro avg       0.80      0.72      0.72       863\n",
      "weighted avg       0.79      0.74      0.73       863\n",
      "\n"
     ]
    }
   ],
   "source": [
    "print(metrics.classification_report(y_test_valve2,yhat_test))"
   ]
  },
  {
   "cell_type": "markdown",
   "metadata": {},
   "source": [
    "#### Test model for other anomalies"
   ]
  },
  {
   "cell_type": "code",
   "execution_count": 20,
   "metadata": {},
   "outputs": [
    {
     "name": "stderr",
     "output_type": "stream",
     "text": [
      "WARNING:absl:At this time, the v2.11+ optimizer `tf.keras.optimizers.Adam` runs slowly on M1/M2 Macs, please use the legacy Keras optimizer instead, located at `tf.keras.optimizers.legacy.Adam`.\n"
     ]
    },
    {
     "name": "stdout",
     "output_type": "stream",
     "text": [
      "371/371 [==============================] - 1s 1ms/step\n"
     ]
    }
   ],
   "source": [
    "model.fit(x_train_steps_other_anomaly)\n",
    "\n",
    "# results predicting\n",
    "residuals = pd.Series(np.sum(np.mean(np.abs(x_train_steps_other_anomaly - model.predict(x_train_steps_other_anomaly)), axis=1), axis=1))\n",
    "UCL = residuals.quantile(Q)"
   ]
  },
  {
   "cell_type": "code",
   "execution_count": 21,
   "metadata": {},
   "outputs": [
    {
     "name": "stdout",
     "output_type": "stream",
     "text": [
      "371/371 [==============================] - 0s 1ms/step\n",
      "90/90 [==============================] - 0s 1ms/step\n"
     ]
    }
   ],
   "source": [
    "# train prediction\n",
    "cnn_residuals = pd.Series(np.sum(np.mean(np.abs(x_train_steps_other_anomaly - model.predict(x_train_steps_other_anomaly)), axis=1), axis=1))\n",
    "\n",
    "# data i is an anomaly if samples [(i - timesteps + 1) to (i)] are anomalies\n",
    "anomalous_data = cnn_residuals > UCL\n",
    "anomalous_data_indices = []\n",
    "for data_idx in range(N_STEPS - 1, len(x_train_steps_other_anomaly) - N_STEPS + 1):\n",
    "    if np.all(anomalous_data[data_idx - N_STEPS + 1 : data_idx]):\n",
    "        anomalous_data_indices.append(data_idx)\n",
    "\n",
    "yhat_train = pd.Series(data=0, index=x_train_other_anomaly.index)\n",
    "yhat_train.iloc[anomalous_data_indices] = 1\n",
    "\n",
    "\n",
    "# test prediction\n",
    "cnn_residuals = pd.Series(np.sum(np.mean(np.abs(x_test_steps_other_anomaly - model.predict(x_test_steps_other_anomaly)), axis=1), axis=1))\n",
    "\n",
    "# data i is an anomaly if samples [(i - timesteps + 1) to (i)] are anomalies\n",
    "anomalous_data = cnn_residuals > UCL\n",
    "anomalous_data_indices = []\n",
    "for data_idx in range(N_STEPS - 1, len(x_test_steps_other_anomaly) - N_STEPS + 1):\n",
    "    if np.all(anomalous_data[data_idx - N_STEPS + 1 : data_idx]):\n",
    "        anomalous_data_indices.append(data_idx)\n",
    "\n",
    "yhat_test = pd.Series(data=0, index=x_test_other_anomaly.index)\n",
    "yhat_test.iloc[anomalous_data_indices] = 1\n",
    "  \n",
    "  "
   ]
  },
  {
   "cell_type": "code",
   "execution_count": 22,
   "metadata": {},
   "outputs": [
    {
     "name": "stdout",
     "output_type": "stream",
     "text": [
      "Training accuracy 0.5277\n",
      "Testing accuracy 0.5415\n"
     ]
    }
   ],
   "source": [
    "print('Training accuracy {:.4f}'.format(accuracy_score(y_train_other_anomaly, yhat_train)))\n",
    "print('Testing accuracy {:.4f}'.format(accuracy_score(y_test_other_anomaly, yhat_test)))"
   ]
  },
  {
   "cell_type": "code",
   "execution_count": 23,
   "metadata": {},
   "outputs": [
    {
     "name": "stdout",
     "output_type": "stream",
     "text": [
      "Accuracy: 0.541542\n",
      "Precision: 0.000000\n",
      "Recall: 0.000000\n",
      "F1 score: 0.000000\n"
     ]
    },
    {
     "name": "stderr",
     "output_type": "stream",
     "text": [
      "/opt/homebrew/Caskroom/miniforge/base/envs/school_env/lib/python3.10/site-packages/sklearn/metrics/_classification.py:1471: UndefinedMetricWarning: Precision is ill-defined and being set to 0.0 due to no predicted samples. Use `zero_division` parameter to control this behavior.\n",
      "  _warn_prf(average, modifier, msg_start, len(result))\n"
     ]
    }
   ],
   "source": [
    "accuracy = accuracy_score(y_test_other_anomaly, yhat_test)\n",
    "print('Accuracy: %f' % accuracy)\n",
    "# precision tp / (tp + fp)\n",
    "precision = precision_score(y_test_other_anomaly, yhat_test)\n",
    "print('Precision: %f' % precision)\n",
    "# recall: tp / (tp + fn)\n",
    "recall = recall_score(y_test_other_anomaly, yhat_test)\n",
    "print('Recall: %f' % recall)\n",
    "# f1: 2 tp / (2 tp + fp + fn)\n",
    "f1 = f1_score(y_test_other_anomaly, yhat_test)\n",
    "print('F1 score: %f' % f1)"
   ]
  },
  {
   "cell_type": "code",
   "execution_count": 24,
   "metadata": {},
   "outputs": [
    {
     "name": "stdout",
     "output_type": "stream",
     "text": [
      "False Alarm Rate: 0.0\n",
      "Missing Alarm Rate: 1.0\n"
     ]
    },
    {
     "name": "stderr",
     "output_type": "stream",
     "text": [
      "/var/folders/zz/t2f5q7kj0bjdkxwz1v713q7w0000gn/T/ipykernel_20407/1567969968.py:10: RuntimeWarning: invalid value encountered in scalar divide\n",
      "  PPV = TP/(TP+FP)\n",
      "/var/folders/zz/t2f5q7kj0bjdkxwz1v713q7w0000gn/T/ipykernel_20407/1567969968.py:18: RuntimeWarning: invalid value encountered in scalar divide\n",
      "  FDR = FP/(TP+FP)\n"
     ]
    }
   ],
   "source": [
    "conf_matrix = metrics.confusion_matrix(y_test_other_anomaly, yhat_test)\n",
    "\n",
    "TN, FP, FN, TP = conf_matrix.ravel()\n",
    "\n",
    "# Sensitivity, hit rate, recall, or true positive rate\n",
    "TPR = TP/(TP+FN)\n",
    "# Specificity or true negative rate\n",
    "TNR = TN/(TN+FP) \n",
    "# Precision or positive predictive value\n",
    "PPV = TP/(TP+FP)\n",
    "# Negative predictive value\n",
    "NPV = TN/(TN+FN)\n",
    "# Fall out or false positive rate FAR false alarm rate\n",
    "FPR = FP/(FP+TN)\n",
    "# False negative rate MAR missing alarm rate\n",
    "FNR = FN/(TP+FN)\n",
    "# False discovery rate\n",
    "FDR = FP/(TP+FP)\n",
    "\n",
    "# Overall accuracy\n",
    "ACC = (TP+TN)/(TP+FP+FN+TN)\n",
    "\n",
    "print(f'False Alarm Rate: {FPR}')\n",
    "print(f'Missing Alarm Rate: {FNR}')"
   ]
  },
  {
   "cell_type": "code",
   "execution_count": 25,
   "metadata": {},
   "outputs": [
    {
     "name": "stdout",
     "output_type": "stream",
     "text": [
      "              precision    recall  f1-score   support\n",
      "\n",
      "         0.0       0.54      1.00      0.70      1623\n",
      "         1.0       0.00      0.00      0.00      1374\n",
      "\n",
      "    accuracy                           0.54      2997\n",
      "   macro avg       0.27      0.50      0.35      2997\n",
      "weighted avg       0.29      0.54      0.38      2997\n",
      "\n"
     ]
    },
    {
     "name": "stderr",
     "output_type": "stream",
     "text": [
      "/opt/homebrew/Caskroom/miniforge/base/envs/school_env/lib/python3.10/site-packages/sklearn/metrics/_classification.py:1471: UndefinedMetricWarning: Precision and F-score are ill-defined and being set to 0.0 in labels with no predicted samples. Use `zero_division` parameter to control this behavior.\n",
      "  _warn_prf(average, modifier, msg_start, len(result))\n",
      "/opt/homebrew/Caskroom/miniforge/base/envs/school_env/lib/python3.10/site-packages/sklearn/metrics/_classification.py:1471: UndefinedMetricWarning: Precision and F-score are ill-defined and being set to 0.0 in labels with no predicted samples. Use `zero_division` parameter to control this behavior.\n",
      "  _warn_prf(average, modifier, msg_start, len(result))\n",
      "/opt/homebrew/Caskroom/miniforge/base/envs/school_env/lib/python3.10/site-packages/sklearn/metrics/_classification.py:1471: UndefinedMetricWarning: Precision and F-score are ill-defined and being set to 0.0 in labels with no predicted samples. Use `zero_division` parameter to control this behavior.\n",
      "  _warn_prf(average, modifier, msg_start, len(result))\n"
     ]
    }
   ],
   "source": [
    "print(metrics.classification_report(y_test_other_anomaly,yhat_test))"
   ]
  },
  {
   "cell_type": "markdown",
   "metadata": {},
   "source": [
    "## Apply steps on datasets"
   ]
  },
  {
   "cell_type": "markdown",
   "metadata": {},
   "source": [
    "__Add rolling stats__"
   ]
  },
  {
   "cell_type": "code",
   "execution_count": 27,
   "metadata": {},
   "outputs": [
    {
     "name": "stderr",
     "output_type": "stream",
     "text": [
      "/Users/ronibendom/Projects/MLOps/data_processing/process_data.py:99: SettingWithCopyWarning: \n",
      "A value is trying to be set on a copy of a slice from a DataFrame.\n",
      "Try using .loc[row_indexer,col_indexer] = value instead\n",
      "\n",
      "See the caveats in the documentation: https://pandas.pydata.org/pandas-docs/stable/user_guide/indexing.html#returning-a-view-versus-a-copy\n",
      "  df[f\"{col}_rolling_mean\"] = df[f\"{col}\"].rolling(time_diff).mean()\n",
      "/Users/ronibendom/Projects/MLOps/data_processing/process_data.py:99: SettingWithCopyWarning: \n",
      "A value is trying to be set on a copy of a slice from a DataFrame.\n",
      "Try using .loc[row_indexer,col_indexer] = value instead\n",
      "\n",
      "See the caveats in the documentation: https://pandas.pydata.org/pandas-docs/stable/user_guide/indexing.html#returning-a-view-versus-a-copy\n",
      "  df[f\"{col}_rolling_mean\"] = df[f\"{col}\"].rolling(time_diff).mean()\n",
      "/Users/ronibendom/Projects/MLOps/data_processing/process_data.py:99: SettingWithCopyWarning: \n",
      "A value is trying to be set on a copy of a slice from a DataFrame.\n",
      "Try using .loc[row_indexer,col_indexer] = value instead\n",
      "\n",
      "See the caveats in the documentation: https://pandas.pydata.org/pandas-docs/stable/user_guide/indexing.html#returning-a-view-versus-a-copy\n",
      "  df[f\"{col}_rolling_mean\"] = df[f\"{col}\"].rolling(time_diff).mean()\n",
      "/Users/ronibendom/Projects/MLOps/data_processing/process_data.py:99: SettingWithCopyWarning: \n",
      "A value is trying to be set on a copy of a slice from a DataFrame.\n",
      "Try using .loc[row_indexer,col_indexer] = value instead\n",
      "\n",
      "See the caveats in the documentation: https://pandas.pydata.org/pandas-docs/stable/user_guide/indexing.html#returning-a-view-versus-a-copy\n",
      "  df[f\"{col}_rolling_mean\"] = df[f\"{col}\"].rolling(time_diff).mean()\n",
      "/Users/ronibendom/Projects/MLOps/data_processing/process_data.py:99: SettingWithCopyWarning: \n",
      "A value is trying to be set on a copy of a slice from a DataFrame.\n",
      "Try using .loc[row_indexer,col_indexer] = value instead\n",
      "\n",
      "See the caveats in the documentation: https://pandas.pydata.org/pandas-docs/stable/user_guide/indexing.html#returning-a-view-versus-a-copy\n",
      "  df[f\"{col}_rolling_mean\"] = df[f\"{col}\"].rolling(time_diff).mean()\n",
      "/Users/ronibendom/Projects/MLOps/data_processing/process_data.py:99: SettingWithCopyWarning: \n",
      "A value is trying to be set on a copy of a slice from a DataFrame.\n",
      "Try using .loc[row_indexer,col_indexer] = value instead\n",
      "\n",
      "See the caveats in the documentation: https://pandas.pydata.org/pandas-docs/stable/user_guide/indexing.html#returning-a-view-versus-a-copy\n",
      "  df[f\"{col}_rolling_mean\"] = df[f\"{col}\"].rolling(time_diff).mean()\n",
      "/Users/ronibendom/Projects/MLOps/data_processing/process_data.py:99: SettingWithCopyWarning: \n",
      "A value is trying to be set on a copy of a slice from a DataFrame.\n",
      "Try using .loc[row_indexer,col_indexer] = value instead\n",
      "\n",
      "See the caveats in the documentation: https://pandas.pydata.org/pandas-docs/stable/user_guide/indexing.html#returning-a-view-versus-a-copy\n",
      "  df[f\"{col}_rolling_mean\"] = df[f\"{col}\"].rolling(time_diff).mean()\n",
      "/Users/ronibendom/Projects/MLOps/data_processing/process_data.py:99: SettingWithCopyWarning: \n",
      "A value is trying to be set on a copy of a slice from a DataFrame.\n",
      "Try using .loc[row_indexer,col_indexer] = value instead\n",
      "\n",
      "See the caveats in the documentation: https://pandas.pydata.org/pandas-docs/stable/user_guide/indexing.html#returning-a-view-versus-a-copy\n",
      "  df[f\"{col}_rolling_mean\"] = df[f\"{col}\"].rolling(time_diff).mean()\n",
      "/Users/ronibendom/Projects/MLOps/data_processing/process_data.py:105: SettingWithCopyWarning: \n",
      "A value is trying to be set on a copy of a slice from a DataFrame.\n",
      "Try using .loc[row_indexer,col_indexer] = value instead\n",
      "\n",
      "See the caveats in the documentation: https://pandas.pydata.org/pandas-docs/stable/user_guide/indexing.html#returning-a-view-versus-a-copy\n",
      "  df[f\"{col}_rolling_skew\"] = df[f\"{col}\"].rolling(time_diff).skew()\n",
      "/Users/ronibendom/Projects/MLOps/data_processing/process_data.py:105: SettingWithCopyWarning: \n",
      "A value is trying to be set on a copy of a slice from a DataFrame.\n",
      "Try using .loc[row_indexer,col_indexer] = value instead\n",
      "\n",
      "See the caveats in the documentation: https://pandas.pydata.org/pandas-docs/stable/user_guide/indexing.html#returning-a-view-versus-a-copy\n",
      "  df[f\"{col}_rolling_skew\"] = df[f\"{col}\"].rolling(time_diff).skew()\n",
      "/Users/ronibendom/Projects/MLOps/data_processing/process_data.py:105: SettingWithCopyWarning: \n",
      "A value is trying to be set on a copy of a slice from a DataFrame.\n",
      "Try using .loc[row_indexer,col_indexer] = value instead\n",
      "\n",
      "See the caveats in the documentation: https://pandas.pydata.org/pandas-docs/stable/user_guide/indexing.html#returning-a-view-versus-a-copy\n",
      "  df[f\"{col}_rolling_skew\"] = df[f\"{col}\"].rolling(time_diff).skew()\n",
      "/Users/ronibendom/Projects/MLOps/data_processing/process_data.py:105: SettingWithCopyWarning: \n",
      "A value is trying to be set on a copy of a slice from a DataFrame.\n",
      "Try using .loc[row_indexer,col_indexer] = value instead\n",
      "\n",
      "See the caveats in the documentation: https://pandas.pydata.org/pandas-docs/stable/user_guide/indexing.html#returning-a-view-versus-a-copy\n",
      "  df[f\"{col}_rolling_skew\"] = df[f\"{col}\"].rolling(time_diff).skew()\n",
      "/Users/ronibendom/Projects/MLOps/data_processing/process_data.py:105: SettingWithCopyWarning: \n",
      "A value is trying to be set on a copy of a slice from a DataFrame.\n",
      "Try using .loc[row_indexer,col_indexer] = value instead\n",
      "\n",
      "See the caveats in the documentation: https://pandas.pydata.org/pandas-docs/stable/user_guide/indexing.html#returning-a-view-versus-a-copy\n",
      "  df[f\"{col}_rolling_skew\"] = df[f\"{col}\"].rolling(time_diff).skew()\n",
      "/Users/ronibendom/Projects/MLOps/data_processing/process_data.py:105: SettingWithCopyWarning: \n",
      "A value is trying to be set on a copy of a slice from a DataFrame.\n",
      "Try using .loc[row_indexer,col_indexer] = value instead\n",
      "\n",
      "See the caveats in the documentation: https://pandas.pydata.org/pandas-docs/stable/user_guide/indexing.html#returning-a-view-versus-a-copy\n",
      "  df[f\"{col}_rolling_skew\"] = df[f\"{col}\"].rolling(time_diff).skew()\n",
      "/Users/ronibendom/Projects/MLOps/data_processing/process_data.py:105: SettingWithCopyWarning: \n",
      "A value is trying to be set on a copy of a slice from a DataFrame.\n",
      "Try using .loc[row_indexer,col_indexer] = value instead\n",
      "\n",
      "See the caveats in the documentation: https://pandas.pydata.org/pandas-docs/stable/user_guide/indexing.html#returning-a-view-versus-a-copy\n",
      "  df[f\"{col}_rolling_skew\"] = df[f\"{col}\"].rolling(time_diff).skew()\n",
      "/Users/ronibendom/Projects/MLOps/data_processing/process_data.py:105: SettingWithCopyWarning: \n",
      "A value is trying to be set on a copy of a slice from a DataFrame.\n",
      "Try using .loc[row_indexer,col_indexer] = value instead\n",
      "\n",
      "See the caveats in the documentation: https://pandas.pydata.org/pandas-docs/stable/user_guide/indexing.html#returning-a-view-versus-a-copy\n",
      "  df[f\"{col}_rolling_skew\"] = df[f\"{col}\"].rolling(time_diff).skew()\n",
      "/Users/ronibendom/Projects/MLOps/data_processing/process_data.py:111: SettingWithCopyWarning: \n",
      "A value is trying to be set on a copy of a slice from a DataFrame.\n",
      "Try using .loc[row_indexer,col_indexer] = value instead\n",
      "\n",
      "See the caveats in the documentation: https://pandas.pydata.org/pandas-docs/stable/user_guide/indexing.html#returning-a-view-versus-a-copy\n",
      "  df[f\"{col}_rolling_variance\"] = df[f\"{col}\"].rolling(time_diff).var()\n",
      "/Users/ronibendom/Projects/MLOps/data_processing/process_data.py:111: SettingWithCopyWarning: \n",
      "A value is trying to be set on a copy of a slice from a DataFrame.\n",
      "Try using .loc[row_indexer,col_indexer] = value instead\n",
      "\n",
      "See the caveats in the documentation: https://pandas.pydata.org/pandas-docs/stable/user_guide/indexing.html#returning-a-view-versus-a-copy\n",
      "  df[f\"{col}_rolling_variance\"] = df[f\"{col}\"].rolling(time_diff).var()\n",
      "/Users/ronibendom/Projects/MLOps/data_processing/process_data.py:111: SettingWithCopyWarning: \n",
      "A value is trying to be set on a copy of a slice from a DataFrame.\n",
      "Try using .loc[row_indexer,col_indexer] = value instead\n",
      "\n",
      "See the caveats in the documentation: https://pandas.pydata.org/pandas-docs/stable/user_guide/indexing.html#returning-a-view-versus-a-copy\n",
      "  df[f\"{col}_rolling_variance\"] = df[f\"{col}\"].rolling(time_diff).var()\n",
      "/Users/ronibendom/Projects/MLOps/data_processing/process_data.py:111: SettingWithCopyWarning: \n",
      "A value is trying to be set on a copy of a slice from a DataFrame.\n",
      "Try using .loc[row_indexer,col_indexer] = value instead\n",
      "\n",
      "See the caveats in the documentation: https://pandas.pydata.org/pandas-docs/stable/user_guide/indexing.html#returning-a-view-versus-a-copy\n",
      "  df[f\"{col}_rolling_variance\"] = df[f\"{col}\"].rolling(time_diff).var()\n",
      "/Users/ronibendom/Projects/MLOps/data_processing/process_data.py:111: SettingWithCopyWarning: \n",
      "A value is trying to be set on a copy of a slice from a DataFrame.\n",
      "Try using .loc[row_indexer,col_indexer] = value instead\n",
      "\n",
      "See the caveats in the documentation: https://pandas.pydata.org/pandas-docs/stable/user_guide/indexing.html#returning-a-view-versus-a-copy\n",
      "  df[f\"{col}_rolling_variance\"] = df[f\"{col}\"].rolling(time_diff).var()\n",
      "/Users/ronibendom/Projects/MLOps/data_processing/process_data.py:111: SettingWithCopyWarning: \n",
      "A value is trying to be set on a copy of a slice from a DataFrame.\n",
      "Try using .loc[row_indexer,col_indexer] = value instead\n",
      "\n",
      "See the caveats in the documentation: https://pandas.pydata.org/pandas-docs/stable/user_guide/indexing.html#returning-a-view-versus-a-copy\n",
      "  df[f\"{col}_rolling_variance\"] = df[f\"{col}\"].rolling(time_diff).var()\n",
      "/Users/ronibendom/Projects/MLOps/data_processing/process_data.py:111: SettingWithCopyWarning: \n",
      "A value is trying to be set on a copy of a slice from a DataFrame.\n",
      "Try using .loc[row_indexer,col_indexer] = value instead\n",
      "\n",
      "See the caveats in the documentation: https://pandas.pydata.org/pandas-docs/stable/user_guide/indexing.html#returning-a-view-versus-a-copy\n",
      "  df[f\"{col}_rolling_variance\"] = df[f\"{col}\"].rolling(time_diff).var()\n",
      "/Users/ronibendom/Projects/MLOps/data_processing/process_data.py:111: SettingWithCopyWarning: \n",
      "A value is trying to be set on a copy of a slice from a DataFrame.\n",
      "Try using .loc[row_indexer,col_indexer] = value instead\n",
      "\n",
      "See the caveats in the documentation: https://pandas.pydata.org/pandas-docs/stable/user_guide/indexing.html#returning-a-view-versus-a-copy\n",
      "  df[f\"{col}_rolling_variance\"] = df[f\"{col}\"].rolling(time_diff).var()\n",
      "/Users/ronibendom/Projects/MLOps/data_processing/process_data.py:117: SettingWithCopyWarning: \n",
      "A value is trying to be set on a copy of a slice from a DataFrame.\n",
      "Try using .loc[row_indexer,col_indexer] = value instead\n",
      "\n",
      "See the caveats in the documentation: https://pandas.pydata.org/pandas-docs/stable/user_guide/indexing.html#returning-a-view-versus-a-copy\n",
      "  df[f\"{col}_rolling_std\"] = df[f\"{col}\"].rolling(time_diff).std()\n",
      "/Users/ronibendom/Projects/MLOps/data_processing/process_data.py:117: SettingWithCopyWarning: \n",
      "A value is trying to be set on a copy of a slice from a DataFrame.\n",
      "Try using .loc[row_indexer,col_indexer] = value instead\n",
      "\n",
      "See the caveats in the documentation: https://pandas.pydata.org/pandas-docs/stable/user_guide/indexing.html#returning-a-view-versus-a-copy\n",
      "  df[f\"{col}_rolling_std\"] = df[f\"{col}\"].rolling(time_diff).std()\n",
      "/Users/ronibendom/Projects/MLOps/data_processing/process_data.py:117: SettingWithCopyWarning: \n",
      "A value is trying to be set on a copy of a slice from a DataFrame.\n",
      "Try using .loc[row_indexer,col_indexer] = value instead\n",
      "\n",
      "See the caveats in the documentation: https://pandas.pydata.org/pandas-docs/stable/user_guide/indexing.html#returning-a-view-versus-a-copy\n",
      "  df[f\"{col}_rolling_std\"] = df[f\"{col}\"].rolling(time_diff).std()\n",
      "/Users/ronibendom/Projects/MLOps/data_processing/process_data.py:117: SettingWithCopyWarning: \n",
      "A value is trying to be set on a copy of a slice from a DataFrame.\n",
      "Try using .loc[row_indexer,col_indexer] = value instead\n",
      "\n",
      "See the caveats in the documentation: https://pandas.pydata.org/pandas-docs/stable/user_guide/indexing.html#returning-a-view-versus-a-copy\n",
      "  df[f\"{col}_rolling_std\"] = df[f\"{col}\"].rolling(time_diff).std()\n",
      "/Users/ronibendom/Projects/MLOps/data_processing/process_data.py:117: SettingWithCopyWarning: \n",
      "A value is trying to be set on a copy of a slice from a DataFrame.\n",
      "Try using .loc[row_indexer,col_indexer] = value instead\n",
      "\n",
      "See the caveats in the documentation: https://pandas.pydata.org/pandas-docs/stable/user_guide/indexing.html#returning-a-view-versus-a-copy\n",
      "  df[f\"{col}_rolling_std\"] = df[f\"{col}\"].rolling(time_diff).std()\n",
      "/Users/ronibendom/Projects/MLOps/data_processing/process_data.py:117: SettingWithCopyWarning: \n",
      "A value is trying to be set on a copy of a slice from a DataFrame.\n",
      "Try using .loc[row_indexer,col_indexer] = value instead\n",
      "\n",
      "See the caveats in the documentation: https://pandas.pydata.org/pandas-docs/stable/user_guide/indexing.html#returning-a-view-versus-a-copy\n",
      "  df[f\"{col}_rolling_std\"] = df[f\"{col}\"].rolling(time_diff).std()\n",
      "/Users/ronibendom/Projects/MLOps/data_processing/process_data.py:117: SettingWithCopyWarning: \n",
      "A value is trying to be set on a copy of a slice from a DataFrame.\n",
      "Try using .loc[row_indexer,col_indexer] = value instead\n",
      "\n",
      "See the caveats in the documentation: https://pandas.pydata.org/pandas-docs/stable/user_guide/indexing.html#returning-a-view-versus-a-copy\n",
      "  df[f\"{col}_rolling_std\"] = df[f\"{col}\"].rolling(time_diff).std()\n",
      "/Users/ronibendom/Projects/MLOps/data_processing/process_data.py:117: SettingWithCopyWarning: \n",
      "A value is trying to be set on a copy of a slice from a DataFrame.\n",
      "Try using .loc[row_indexer,col_indexer] = value instead\n",
      "\n",
      "See the caveats in the documentation: https://pandas.pydata.org/pandas-docs/stable/user_guide/indexing.html#returning-a-view-versus-a-copy\n",
      "  df[f\"{col}_rolling_std\"] = df[f\"{col}\"].rolling(time_diff).std()\n",
      "/Users/ronibendom/Projects/MLOps/data_processing/process_data.py:123: SettingWithCopyWarning: \n",
      "A value is trying to be set on a copy of a slice from a DataFrame.\n",
      "Try using .loc[row_indexer,col_indexer] = value instead\n",
      "\n",
      "See the caveats in the documentation: https://pandas.pydata.org/pandas-docs/stable/user_guide/indexing.html#returning-a-view-versus-a-copy\n",
      "  df[f\"{col}_rolling_kurtosis\"] = df[f\"{col}\"].rolling(time_diff).kurt()\n",
      "/Users/ronibendom/Projects/MLOps/data_processing/process_data.py:123: SettingWithCopyWarning: \n",
      "A value is trying to be set on a copy of a slice from a DataFrame.\n",
      "Try using .loc[row_indexer,col_indexer] = value instead\n",
      "\n",
      "See the caveats in the documentation: https://pandas.pydata.org/pandas-docs/stable/user_guide/indexing.html#returning-a-view-versus-a-copy\n",
      "  df[f\"{col}_rolling_kurtosis\"] = df[f\"{col}\"].rolling(time_diff).kurt()\n",
      "/Users/ronibendom/Projects/MLOps/data_processing/process_data.py:123: SettingWithCopyWarning: \n",
      "A value is trying to be set on a copy of a slice from a DataFrame.\n",
      "Try using .loc[row_indexer,col_indexer] = value instead\n",
      "\n",
      "See the caveats in the documentation: https://pandas.pydata.org/pandas-docs/stable/user_guide/indexing.html#returning-a-view-versus-a-copy\n",
      "  df[f\"{col}_rolling_kurtosis\"] = df[f\"{col}\"].rolling(time_diff).kurt()\n",
      "/Users/ronibendom/Projects/MLOps/data_processing/process_data.py:123: SettingWithCopyWarning: \n",
      "A value is trying to be set on a copy of a slice from a DataFrame.\n",
      "Try using .loc[row_indexer,col_indexer] = value instead\n",
      "\n",
      "See the caveats in the documentation: https://pandas.pydata.org/pandas-docs/stable/user_guide/indexing.html#returning-a-view-versus-a-copy\n",
      "  df[f\"{col}_rolling_kurtosis\"] = df[f\"{col}\"].rolling(time_diff).kurt()\n",
      "/Users/ronibendom/Projects/MLOps/data_processing/process_data.py:123: SettingWithCopyWarning: \n",
      "A value is trying to be set on a copy of a slice from a DataFrame.\n",
      "Try using .loc[row_indexer,col_indexer] = value instead\n",
      "\n",
      "See the caveats in the documentation: https://pandas.pydata.org/pandas-docs/stable/user_guide/indexing.html#returning-a-view-versus-a-copy\n",
      "  df[f\"{col}_rolling_kurtosis\"] = df[f\"{col}\"].rolling(time_diff).kurt()\n",
      "/Users/ronibendom/Projects/MLOps/data_processing/process_data.py:123: SettingWithCopyWarning: \n",
      "A value is trying to be set on a copy of a slice from a DataFrame.\n",
      "Try using .loc[row_indexer,col_indexer] = value instead\n",
      "\n",
      "See the caveats in the documentation: https://pandas.pydata.org/pandas-docs/stable/user_guide/indexing.html#returning-a-view-versus-a-copy\n",
      "  df[f\"{col}_rolling_kurtosis\"] = df[f\"{col}\"].rolling(time_diff).kurt()\n",
      "/Users/ronibendom/Projects/MLOps/data_processing/process_data.py:123: SettingWithCopyWarning: \n",
      "A value is trying to be set on a copy of a slice from a DataFrame.\n",
      "Try using .loc[row_indexer,col_indexer] = value instead\n",
      "\n",
      "See the caveats in the documentation: https://pandas.pydata.org/pandas-docs/stable/user_guide/indexing.html#returning-a-view-versus-a-copy\n",
      "  df[f\"{col}_rolling_kurtosis\"] = df[f\"{col}\"].rolling(time_diff).kurt()\n",
      "/Users/ronibendom/Projects/MLOps/data_processing/process_data.py:123: SettingWithCopyWarning: \n",
      "A value is trying to be set on a copy of a slice from a DataFrame.\n",
      "Try using .loc[row_indexer,col_indexer] = value instead\n",
      "\n",
      "See the caveats in the documentation: https://pandas.pydata.org/pandas-docs/stable/user_guide/indexing.html#returning-a-view-versus-a-copy\n",
      "  df[f\"{col}_rolling_kurtosis\"] = df[f\"{col}\"].rolling(time_diff).kurt()\n",
      "/Users/ronibendom/Projects/MLOps/data_processing/process_data.py:134: SettingWithCopyWarning: \n",
      "A value is trying to be set on a copy of a slice from a DataFrame\n",
      "\n",
      "See the caveats in the documentation: https://pandas.pydata.org/pandas-docs/stable/user_guide/indexing.html#returning-a-view-versus-a-copy\n",
      "  df.bfill(inplace=True)\n",
      "/Users/ronibendom/Projects/MLOps/data_processing/process_data.py:99: SettingWithCopyWarning: \n",
      "A value is trying to be set on a copy of a slice from a DataFrame.\n",
      "Try using .loc[row_indexer,col_indexer] = value instead\n",
      "\n",
      "See the caveats in the documentation: https://pandas.pydata.org/pandas-docs/stable/user_guide/indexing.html#returning-a-view-versus-a-copy\n",
      "  df[f\"{col}_rolling_mean\"] = df[f\"{col}\"].rolling(time_diff).mean()\n",
      "/Users/ronibendom/Projects/MLOps/data_processing/process_data.py:99: SettingWithCopyWarning: \n",
      "A value is trying to be set on a copy of a slice from a DataFrame.\n",
      "Try using .loc[row_indexer,col_indexer] = value instead\n",
      "\n",
      "See the caveats in the documentation: https://pandas.pydata.org/pandas-docs/stable/user_guide/indexing.html#returning-a-view-versus-a-copy\n",
      "  df[f\"{col}_rolling_mean\"] = df[f\"{col}\"].rolling(time_diff).mean()\n",
      "/Users/ronibendom/Projects/MLOps/data_processing/process_data.py:99: SettingWithCopyWarning: \n",
      "A value is trying to be set on a copy of a slice from a DataFrame.\n",
      "Try using .loc[row_indexer,col_indexer] = value instead\n",
      "\n",
      "See the caveats in the documentation: https://pandas.pydata.org/pandas-docs/stable/user_guide/indexing.html#returning-a-view-versus-a-copy\n",
      "  df[f\"{col}_rolling_mean\"] = df[f\"{col}\"].rolling(time_diff).mean()\n",
      "/Users/ronibendom/Projects/MLOps/data_processing/process_data.py:99: SettingWithCopyWarning: \n",
      "A value is trying to be set on a copy of a slice from a DataFrame.\n",
      "Try using .loc[row_indexer,col_indexer] = value instead\n",
      "\n",
      "See the caveats in the documentation: https://pandas.pydata.org/pandas-docs/stable/user_guide/indexing.html#returning-a-view-versus-a-copy\n",
      "  df[f\"{col}_rolling_mean\"] = df[f\"{col}\"].rolling(time_diff).mean()\n",
      "/Users/ronibendom/Projects/MLOps/data_processing/process_data.py:99: SettingWithCopyWarning: \n",
      "A value is trying to be set on a copy of a slice from a DataFrame.\n",
      "Try using .loc[row_indexer,col_indexer] = value instead\n",
      "\n",
      "See the caveats in the documentation: https://pandas.pydata.org/pandas-docs/stable/user_guide/indexing.html#returning-a-view-versus-a-copy\n",
      "  df[f\"{col}_rolling_mean\"] = df[f\"{col}\"].rolling(time_diff).mean()\n",
      "/Users/ronibendom/Projects/MLOps/data_processing/process_data.py:99: SettingWithCopyWarning: \n",
      "A value is trying to be set on a copy of a slice from a DataFrame.\n",
      "Try using .loc[row_indexer,col_indexer] = value instead\n",
      "\n",
      "See the caveats in the documentation: https://pandas.pydata.org/pandas-docs/stable/user_guide/indexing.html#returning-a-view-versus-a-copy\n",
      "  df[f\"{col}_rolling_mean\"] = df[f\"{col}\"].rolling(time_diff).mean()\n",
      "/Users/ronibendom/Projects/MLOps/data_processing/process_data.py:99: SettingWithCopyWarning: \n",
      "A value is trying to be set on a copy of a slice from a DataFrame.\n",
      "Try using .loc[row_indexer,col_indexer] = value instead\n",
      "\n",
      "See the caveats in the documentation: https://pandas.pydata.org/pandas-docs/stable/user_guide/indexing.html#returning-a-view-versus-a-copy\n",
      "  df[f\"{col}_rolling_mean\"] = df[f\"{col}\"].rolling(time_diff).mean()\n",
      "/Users/ronibendom/Projects/MLOps/data_processing/process_data.py:99: SettingWithCopyWarning: \n",
      "A value is trying to be set on a copy of a slice from a DataFrame.\n",
      "Try using .loc[row_indexer,col_indexer] = value instead\n",
      "\n",
      "See the caveats in the documentation: https://pandas.pydata.org/pandas-docs/stable/user_guide/indexing.html#returning-a-view-versus-a-copy\n",
      "  df[f\"{col}_rolling_mean\"] = df[f\"{col}\"].rolling(time_diff).mean()\n",
      "/Users/ronibendom/Projects/MLOps/data_processing/process_data.py:105: SettingWithCopyWarning: \n",
      "A value is trying to be set on a copy of a slice from a DataFrame.\n",
      "Try using .loc[row_indexer,col_indexer] = value instead\n",
      "\n",
      "See the caveats in the documentation: https://pandas.pydata.org/pandas-docs/stable/user_guide/indexing.html#returning-a-view-versus-a-copy\n",
      "  df[f\"{col}_rolling_skew\"] = df[f\"{col}\"].rolling(time_diff).skew()\n",
      "/Users/ronibendom/Projects/MLOps/data_processing/process_data.py:105: SettingWithCopyWarning: \n",
      "A value is trying to be set on a copy of a slice from a DataFrame.\n",
      "Try using .loc[row_indexer,col_indexer] = value instead\n",
      "\n",
      "See the caveats in the documentation: https://pandas.pydata.org/pandas-docs/stable/user_guide/indexing.html#returning-a-view-versus-a-copy\n",
      "  df[f\"{col}_rolling_skew\"] = df[f\"{col}\"].rolling(time_diff).skew()\n",
      "/Users/ronibendom/Projects/MLOps/data_processing/process_data.py:105: SettingWithCopyWarning: \n",
      "A value is trying to be set on a copy of a slice from a DataFrame.\n",
      "Try using .loc[row_indexer,col_indexer] = value instead\n",
      "\n",
      "See the caveats in the documentation: https://pandas.pydata.org/pandas-docs/stable/user_guide/indexing.html#returning-a-view-versus-a-copy\n",
      "  df[f\"{col}_rolling_skew\"] = df[f\"{col}\"].rolling(time_diff).skew()\n",
      "/Users/ronibendom/Projects/MLOps/data_processing/process_data.py:105: SettingWithCopyWarning: \n",
      "A value is trying to be set on a copy of a slice from a DataFrame.\n",
      "Try using .loc[row_indexer,col_indexer] = value instead\n",
      "\n",
      "See the caveats in the documentation: https://pandas.pydata.org/pandas-docs/stable/user_guide/indexing.html#returning-a-view-versus-a-copy\n",
      "  df[f\"{col}_rolling_skew\"] = df[f\"{col}\"].rolling(time_diff).skew()\n",
      "/Users/ronibendom/Projects/MLOps/data_processing/process_data.py:105: SettingWithCopyWarning: \n",
      "A value is trying to be set on a copy of a slice from a DataFrame.\n",
      "Try using .loc[row_indexer,col_indexer] = value instead\n",
      "\n",
      "See the caveats in the documentation: https://pandas.pydata.org/pandas-docs/stable/user_guide/indexing.html#returning-a-view-versus-a-copy\n",
      "  df[f\"{col}_rolling_skew\"] = df[f\"{col}\"].rolling(time_diff).skew()\n",
      "/Users/ronibendom/Projects/MLOps/data_processing/process_data.py:105: SettingWithCopyWarning: \n",
      "A value is trying to be set on a copy of a slice from a DataFrame.\n",
      "Try using .loc[row_indexer,col_indexer] = value instead\n",
      "\n",
      "See the caveats in the documentation: https://pandas.pydata.org/pandas-docs/stable/user_guide/indexing.html#returning-a-view-versus-a-copy\n",
      "  df[f\"{col}_rolling_skew\"] = df[f\"{col}\"].rolling(time_diff).skew()\n",
      "/Users/ronibendom/Projects/MLOps/data_processing/process_data.py:105: SettingWithCopyWarning: \n",
      "A value is trying to be set on a copy of a slice from a DataFrame.\n",
      "Try using .loc[row_indexer,col_indexer] = value instead\n",
      "\n",
      "See the caveats in the documentation: https://pandas.pydata.org/pandas-docs/stable/user_guide/indexing.html#returning-a-view-versus-a-copy\n",
      "  df[f\"{col}_rolling_skew\"] = df[f\"{col}\"].rolling(time_diff).skew()\n",
      "/Users/ronibendom/Projects/MLOps/data_processing/process_data.py:105: SettingWithCopyWarning: \n",
      "A value is trying to be set on a copy of a slice from a DataFrame.\n",
      "Try using .loc[row_indexer,col_indexer] = value instead\n",
      "\n",
      "See the caveats in the documentation: https://pandas.pydata.org/pandas-docs/stable/user_guide/indexing.html#returning-a-view-versus-a-copy\n",
      "  df[f\"{col}_rolling_skew\"] = df[f\"{col}\"].rolling(time_diff).skew()\n",
      "/Users/ronibendom/Projects/MLOps/data_processing/process_data.py:111: SettingWithCopyWarning: \n",
      "A value is trying to be set on a copy of a slice from a DataFrame.\n",
      "Try using .loc[row_indexer,col_indexer] = value instead\n",
      "\n",
      "See the caveats in the documentation: https://pandas.pydata.org/pandas-docs/stable/user_guide/indexing.html#returning-a-view-versus-a-copy\n",
      "  df[f\"{col}_rolling_variance\"] = df[f\"{col}\"].rolling(time_diff).var()\n",
      "/Users/ronibendom/Projects/MLOps/data_processing/process_data.py:111: SettingWithCopyWarning: \n",
      "A value is trying to be set on a copy of a slice from a DataFrame.\n",
      "Try using .loc[row_indexer,col_indexer] = value instead\n",
      "\n",
      "See the caveats in the documentation: https://pandas.pydata.org/pandas-docs/stable/user_guide/indexing.html#returning-a-view-versus-a-copy\n",
      "  df[f\"{col}_rolling_variance\"] = df[f\"{col}\"].rolling(time_diff).var()\n",
      "/Users/ronibendom/Projects/MLOps/data_processing/process_data.py:111: SettingWithCopyWarning: \n",
      "A value is trying to be set on a copy of a slice from a DataFrame.\n",
      "Try using .loc[row_indexer,col_indexer] = value instead\n",
      "\n",
      "See the caveats in the documentation: https://pandas.pydata.org/pandas-docs/stable/user_guide/indexing.html#returning-a-view-versus-a-copy\n",
      "  df[f\"{col}_rolling_variance\"] = df[f\"{col}\"].rolling(time_diff).var()\n",
      "/Users/ronibendom/Projects/MLOps/data_processing/process_data.py:111: SettingWithCopyWarning: \n",
      "A value is trying to be set on a copy of a slice from a DataFrame.\n",
      "Try using .loc[row_indexer,col_indexer] = value instead\n",
      "\n",
      "See the caveats in the documentation: https://pandas.pydata.org/pandas-docs/stable/user_guide/indexing.html#returning-a-view-versus-a-copy\n",
      "  df[f\"{col}_rolling_variance\"] = df[f\"{col}\"].rolling(time_diff).var()\n",
      "/Users/ronibendom/Projects/MLOps/data_processing/process_data.py:111: SettingWithCopyWarning: \n",
      "A value is trying to be set on a copy of a slice from a DataFrame.\n",
      "Try using .loc[row_indexer,col_indexer] = value instead\n",
      "\n",
      "See the caveats in the documentation: https://pandas.pydata.org/pandas-docs/stable/user_guide/indexing.html#returning-a-view-versus-a-copy\n",
      "  df[f\"{col}_rolling_variance\"] = df[f\"{col}\"].rolling(time_diff).var()\n",
      "/Users/ronibendom/Projects/MLOps/data_processing/process_data.py:111: SettingWithCopyWarning: \n",
      "A value is trying to be set on a copy of a slice from a DataFrame.\n",
      "Try using .loc[row_indexer,col_indexer] = value instead\n",
      "\n",
      "See the caveats in the documentation: https://pandas.pydata.org/pandas-docs/stable/user_guide/indexing.html#returning-a-view-versus-a-copy\n",
      "  df[f\"{col}_rolling_variance\"] = df[f\"{col}\"].rolling(time_diff).var()\n",
      "/Users/ronibendom/Projects/MLOps/data_processing/process_data.py:111: SettingWithCopyWarning: \n",
      "A value is trying to be set on a copy of a slice from a DataFrame.\n",
      "Try using .loc[row_indexer,col_indexer] = value instead\n",
      "\n",
      "See the caveats in the documentation: https://pandas.pydata.org/pandas-docs/stable/user_guide/indexing.html#returning-a-view-versus-a-copy\n",
      "  df[f\"{col}_rolling_variance\"] = df[f\"{col}\"].rolling(time_diff).var()\n",
      "/Users/ronibendom/Projects/MLOps/data_processing/process_data.py:111: SettingWithCopyWarning: \n",
      "A value is trying to be set on a copy of a slice from a DataFrame.\n",
      "Try using .loc[row_indexer,col_indexer] = value instead\n",
      "\n",
      "See the caveats in the documentation: https://pandas.pydata.org/pandas-docs/stable/user_guide/indexing.html#returning-a-view-versus-a-copy\n",
      "  df[f\"{col}_rolling_variance\"] = df[f\"{col}\"].rolling(time_diff).var()\n",
      "/Users/ronibendom/Projects/MLOps/data_processing/process_data.py:117: SettingWithCopyWarning: \n",
      "A value is trying to be set on a copy of a slice from a DataFrame.\n",
      "Try using .loc[row_indexer,col_indexer] = value instead\n",
      "\n",
      "See the caveats in the documentation: https://pandas.pydata.org/pandas-docs/stable/user_guide/indexing.html#returning-a-view-versus-a-copy\n",
      "  df[f\"{col}_rolling_std\"] = df[f\"{col}\"].rolling(time_diff).std()\n",
      "/Users/ronibendom/Projects/MLOps/data_processing/process_data.py:117: SettingWithCopyWarning: \n",
      "A value is trying to be set on a copy of a slice from a DataFrame.\n",
      "Try using .loc[row_indexer,col_indexer] = value instead\n",
      "\n",
      "See the caveats in the documentation: https://pandas.pydata.org/pandas-docs/stable/user_guide/indexing.html#returning-a-view-versus-a-copy\n",
      "  df[f\"{col}_rolling_std\"] = df[f\"{col}\"].rolling(time_diff).std()\n",
      "/Users/ronibendom/Projects/MLOps/data_processing/process_data.py:117: SettingWithCopyWarning: \n",
      "A value is trying to be set on a copy of a slice from a DataFrame.\n",
      "Try using .loc[row_indexer,col_indexer] = value instead\n",
      "\n",
      "See the caveats in the documentation: https://pandas.pydata.org/pandas-docs/stable/user_guide/indexing.html#returning-a-view-versus-a-copy\n",
      "  df[f\"{col}_rolling_std\"] = df[f\"{col}\"].rolling(time_diff).std()\n",
      "/Users/ronibendom/Projects/MLOps/data_processing/process_data.py:117: SettingWithCopyWarning: \n",
      "A value is trying to be set on a copy of a slice from a DataFrame.\n",
      "Try using .loc[row_indexer,col_indexer] = value instead\n",
      "\n",
      "See the caveats in the documentation: https://pandas.pydata.org/pandas-docs/stable/user_guide/indexing.html#returning-a-view-versus-a-copy\n",
      "  df[f\"{col}_rolling_std\"] = df[f\"{col}\"].rolling(time_diff).std()\n",
      "/Users/ronibendom/Projects/MLOps/data_processing/process_data.py:117: SettingWithCopyWarning: \n",
      "A value is trying to be set on a copy of a slice from a DataFrame.\n",
      "Try using .loc[row_indexer,col_indexer] = value instead\n",
      "\n",
      "See the caveats in the documentation: https://pandas.pydata.org/pandas-docs/stable/user_guide/indexing.html#returning-a-view-versus-a-copy\n",
      "  df[f\"{col}_rolling_std\"] = df[f\"{col}\"].rolling(time_diff).std()\n",
      "/Users/ronibendom/Projects/MLOps/data_processing/process_data.py:117: SettingWithCopyWarning: \n",
      "A value is trying to be set on a copy of a slice from a DataFrame.\n",
      "Try using .loc[row_indexer,col_indexer] = value instead\n",
      "\n",
      "See the caveats in the documentation: https://pandas.pydata.org/pandas-docs/stable/user_guide/indexing.html#returning-a-view-versus-a-copy\n",
      "  df[f\"{col}_rolling_std\"] = df[f\"{col}\"].rolling(time_diff).std()\n",
      "/Users/ronibendom/Projects/MLOps/data_processing/process_data.py:117: SettingWithCopyWarning: \n",
      "A value is trying to be set on a copy of a slice from a DataFrame.\n",
      "Try using .loc[row_indexer,col_indexer] = value instead\n",
      "\n",
      "See the caveats in the documentation: https://pandas.pydata.org/pandas-docs/stable/user_guide/indexing.html#returning-a-view-versus-a-copy\n",
      "  df[f\"{col}_rolling_std\"] = df[f\"{col}\"].rolling(time_diff).std()\n",
      "/Users/ronibendom/Projects/MLOps/data_processing/process_data.py:117: SettingWithCopyWarning: \n",
      "A value is trying to be set on a copy of a slice from a DataFrame.\n",
      "Try using .loc[row_indexer,col_indexer] = value instead\n",
      "\n",
      "See the caveats in the documentation: https://pandas.pydata.org/pandas-docs/stable/user_guide/indexing.html#returning-a-view-versus-a-copy\n",
      "  df[f\"{col}_rolling_std\"] = df[f\"{col}\"].rolling(time_diff).std()\n",
      "/Users/ronibendom/Projects/MLOps/data_processing/process_data.py:123: SettingWithCopyWarning: \n",
      "A value is trying to be set on a copy of a slice from a DataFrame.\n",
      "Try using .loc[row_indexer,col_indexer] = value instead\n",
      "\n",
      "See the caveats in the documentation: https://pandas.pydata.org/pandas-docs/stable/user_guide/indexing.html#returning-a-view-versus-a-copy\n",
      "  df[f\"{col}_rolling_kurtosis\"] = df[f\"{col}\"].rolling(time_diff).kurt()\n",
      "/Users/ronibendom/Projects/MLOps/data_processing/process_data.py:123: SettingWithCopyWarning: \n",
      "A value is trying to be set on a copy of a slice from a DataFrame.\n",
      "Try using .loc[row_indexer,col_indexer] = value instead\n",
      "\n",
      "See the caveats in the documentation: https://pandas.pydata.org/pandas-docs/stable/user_guide/indexing.html#returning-a-view-versus-a-copy\n",
      "  df[f\"{col}_rolling_kurtosis\"] = df[f\"{col}\"].rolling(time_diff).kurt()\n",
      "/Users/ronibendom/Projects/MLOps/data_processing/process_data.py:123: SettingWithCopyWarning: \n",
      "A value is trying to be set on a copy of a slice from a DataFrame.\n",
      "Try using .loc[row_indexer,col_indexer] = value instead\n",
      "\n",
      "See the caveats in the documentation: https://pandas.pydata.org/pandas-docs/stable/user_guide/indexing.html#returning-a-view-versus-a-copy\n",
      "  df[f\"{col}_rolling_kurtosis\"] = df[f\"{col}\"].rolling(time_diff).kurt()\n",
      "/Users/ronibendom/Projects/MLOps/data_processing/process_data.py:123: SettingWithCopyWarning: \n",
      "A value is trying to be set on a copy of a slice from a DataFrame.\n",
      "Try using .loc[row_indexer,col_indexer] = value instead\n",
      "\n",
      "See the caveats in the documentation: https://pandas.pydata.org/pandas-docs/stable/user_guide/indexing.html#returning-a-view-versus-a-copy\n",
      "  df[f\"{col}_rolling_kurtosis\"] = df[f\"{col}\"].rolling(time_diff).kurt()\n",
      "/Users/ronibendom/Projects/MLOps/data_processing/process_data.py:123: SettingWithCopyWarning: \n",
      "A value is trying to be set on a copy of a slice from a DataFrame.\n",
      "Try using .loc[row_indexer,col_indexer] = value instead\n",
      "\n",
      "See the caveats in the documentation: https://pandas.pydata.org/pandas-docs/stable/user_guide/indexing.html#returning-a-view-versus-a-copy\n",
      "  df[f\"{col}_rolling_kurtosis\"] = df[f\"{col}\"].rolling(time_diff).kurt()\n",
      "/Users/ronibendom/Projects/MLOps/data_processing/process_data.py:123: SettingWithCopyWarning: \n",
      "A value is trying to be set on a copy of a slice from a DataFrame.\n",
      "Try using .loc[row_indexer,col_indexer] = value instead\n",
      "\n",
      "See the caveats in the documentation: https://pandas.pydata.org/pandas-docs/stable/user_guide/indexing.html#returning-a-view-versus-a-copy\n",
      "  df[f\"{col}_rolling_kurtosis\"] = df[f\"{col}\"].rolling(time_diff).kurt()\n",
      "/Users/ronibendom/Projects/MLOps/data_processing/process_data.py:123: SettingWithCopyWarning: \n",
      "A value is trying to be set on a copy of a slice from a DataFrame.\n",
      "Try using .loc[row_indexer,col_indexer] = value instead\n",
      "\n",
      "See the caveats in the documentation: https://pandas.pydata.org/pandas-docs/stable/user_guide/indexing.html#returning-a-view-versus-a-copy\n",
      "  df[f\"{col}_rolling_kurtosis\"] = df[f\"{col}\"].rolling(time_diff).kurt()\n",
      "/Users/ronibendom/Projects/MLOps/data_processing/process_data.py:123: SettingWithCopyWarning: \n",
      "A value is trying to be set on a copy of a slice from a DataFrame.\n",
      "Try using .loc[row_indexer,col_indexer] = value instead\n",
      "\n",
      "See the caveats in the documentation: https://pandas.pydata.org/pandas-docs/stable/user_guide/indexing.html#returning-a-view-versus-a-copy\n",
      "  df[f\"{col}_rolling_kurtosis\"] = df[f\"{col}\"].rolling(time_diff).kurt()\n",
      "/Users/ronibendom/Projects/MLOps/data_processing/process_data.py:134: SettingWithCopyWarning: \n",
      "A value is trying to be set on a copy of a slice from a DataFrame\n",
      "\n",
      "See the caveats in the documentation: https://pandas.pydata.org/pandas-docs/stable/user_guide/indexing.html#returning-a-view-versus-a-copy\n",
      "  df.bfill(inplace=True)\n",
      "/Users/ronibendom/Projects/MLOps/data_processing/process_data.py:99: SettingWithCopyWarning: \n",
      "A value is trying to be set on a copy of a slice from a DataFrame.\n",
      "Try using .loc[row_indexer,col_indexer] = value instead\n",
      "\n",
      "See the caveats in the documentation: https://pandas.pydata.org/pandas-docs/stable/user_guide/indexing.html#returning-a-view-versus-a-copy\n",
      "  df[f\"{col}_rolling_mean\"] = df[f\"{col}\"].rolling(time_diff).mean()\n",
      "/Users/ronibendom/Projects/MLOps/data_processing/process_data.py:99: SettingWithCopyWarning: \n",
      "A value is trying to be set on a copy of a slice from a DataFrame.\n",
      "Try using .loc[row_indexer,col_indexer] = value instead\n",
      "\n",
      "See the caveats in the documentation: https://pandas.pydata.org/pandas-docs/stable/user_guide/indexing.html#returning-a-view-versus-a-copy\n",
      "  df[f\"{col}_rolling_mean\"] = df[f\"{col}\"].rolling(time_diff).mean()\n",
      "/Users/ronibendom/Projects/MLOps/data_processing/process_data.py:99: SettingWithCopyWarning: \n",
      "A value is trying to be set on a copy of a slice from a DataFrame.\n",
      "Try using .loc[row_indexer,col_indexer] = value instead\n",
      "\n",
      "See the caveats in the documentation: https://pandas.pydata.org/pandas-docs/stable/user_guide/indexing.html#returning-a-view-versus-a-copy\n",
      "  df[f\"{col}_rolling_mean\"] = df[f\"{col}\"].rolling(time_diff).mean()\n",
      "/Users/ronibendom/Projects/MLOps/data_processing/process_data.py:99: SettingWithCopyWarning: \n",
      "A value is trying to be set on a copy of a slice from a DataFrame.\n",
      "Try using .loc[row_indexer,col_indexer] = value instead\n",
      "\n",
      "See the caveats in the documentation: https://pandas.pydata.org/pandas-docs/stable/user_guide/indexing.html#returning-a-view-versus-a-copy\n",
      "  df[f\"{col}_rolling_mean\"] = df[f\"{col}\"].rolling(time_diff).mean()\n",
      "/Users/ronibendom/Projects/MLOps/data_processing/process_data.py:99: SettingWithCopyWarning: \n",
      "A value is trying to be set on a copy of a slice from a DataFrame.\n",
      "Try using .loc[row_indexer,col_indexer] = value instead\n",
      "\n",
      "See the caveats in the documentation: https://pandas.pydata.org/pandas-docs/stable/user_guide/indexing.html#returning-a-view-versus-a-copy\n",
      "  df[f\"{col}_rolling_mean\"] = df[f\"{col}\"].rolling(time_diff).mean()\n",
      "/Users/ronibendom/Projects/MLOps/data_processing/process_data.py:99: SettingWithCopyWarning: \n",
      "A value is trying to be set on a copy of a slice from a DataFrame.\n",
      "Try using .loc[row_indexer,col_indexer] = value instead\n",
      "\n",
      "See the caveats in the documentation: https://pandas.pydata.org/pandas-docs/stable/user_guide/indexing.html#returning-a-view-versus-a-copy\n",
      "  df[f\"{col}_rolling_mean\"] = df[f\"{col}\"].rolling(time_diff).mean()\n",
      "/Users/ronibendom/Projects/MLOps/data_processing/process_data.py:99: SettingWithCopyWarning: \n",
      "A value is trying to be set on a copy of a slice from a DataFrame.\n",
      "Try using .loc[row_indexer,col_indexer] = value instead\n",
      "\n",
      "See the caveats in the documentation: https://pandas.pydata.org/pandas-docs/stable/user_guide/indexing.html#returning-a-view-versus-a-copy\n",
      "  df[f\"{col}_rolling_mean\"] = df[f\"{col}\"].rolling(time_diff).mean()\n",
      "/Users/ronibendom/Projects/MLOps/data_processing/process_data.py:99: SettingWithCopyWarning: \n",
      "A value is trying to be set on a copy of a slice from a DataFrame.\n",
      "Try using .loc[row_indexer,col_indexer] = value instead\n",
      "\n",
      "See the caveats in the documentation: https://pandas.pydata.org/pandas-docs/stable/user_guide/indexing.html#returning-a-view-versus-a-copy\n",
      "  df[f\"{col}_rolling_mean\"] = df[f\"{col}\"].rolling(time_diff).mean()\n",
      "/Users/ronibendom/Projects/MLOps/data_processing/process_data.py:105: SettingWithCopyWarning: \n",
      "A value is trying to be set on a copy of a slice from a DataFrame.\n",
      "Try using .loc[row_indexer,col_indexer] = value instead\n",
      "\n",
      "See the caveats in the documentation: https://pandas.pydata.org/pandas-docs/stable/user_guide/indexing.html#returning-a-view-versus-a-copy\n",
      "  df[f\"{col}_rolling_skew\"] = df[f\"{col}\"].rolling(time_diff).skew()\n",
      "/Users/ronibendom/Projects/MLOps/data_processing/process_data.py:105: SettingWithCopyWarning: \n",
      "A value is trying to be set on a copy of a slice from a DataFrame.\n",
      "Try using .loc[row_indexer,col_indexer] = value instead\n",
      "\n",
      "See the caveats in the documentation: https://pandas.pydata.org/pandas-docs/stable/user_guide/indexing.html#returning-a-view-versus-a-copy\n",
      "  df[f\"{col}_rolling_skew\"] = df[f\"{col}\"].rolling(time_diff).skew()\n",
      "/Users/ronibendom/Projects/MLOps/data_processing/process_data.py:105: SettingWithCopyWarning: \n",
      "A value is trying to be set on a copy of a slice from a DataFrame.\n",
      "Try using .loc[row_indexer,col_indexer] = value instead\n",
      "\n",
      "See the caveats in the documentation: https://pandas.pydata.org/pandas-docs/stable/user_guide/indexing.html#returning-a-view-versus-a-copy\n",
      "  df[f\"{col}_rolling_skew\"] = df[f\"{col}\"].rolling(time_diff).skew()\n",
      "/Users/ronibendom/Projects/MLOps/data_processing/process_data.py:105: SettingWithCopyWarning: \n",
      "A value is trying to be set on a copy of a slice from a DataFrame.\n",
      "Try using .loc[row_indexer,col_indexer] = value instead\n",
      "\n",
      "See the caveats in the documentation: https://pandas.pydata.org/pandas-docs/stable/user_guide/indexing.html#returning-a-view-versus-a-copy\n",
      "  df[f\"{col}_rolling_skew\"] = df[f\"{col}\"].rolling(time_diff).skew()\n",
      "/Users/ronibendom/Projects/MLOps/data_processing/process_data.py:105: SettingWithCopyWarning: \n",
      "A value is trying to be set on a copy of a slice from a DataFrame.\n",
      "Try using .loc[row_indexer,col_indexer] = value instead\n",
      "\n",
      "See the caveats in the documentation: https://pandas.pydata.org/pandas-docs/stable/user_guide/indexing.html#returning-a-view-versus-a-copy\n",
      "  df[f\"{col}_rolling_skew\"] = df[f\"{col}\"].rolling(time_diff).skew()\n",
      "/Users/ronibendom/Projects/MLOps/data_processing/process_data.py:105: SettingWithCopyWarning: \n",
      "A value is trying to be set on a copy of a slice from a DataFrame.\n",
      "Try using .loc[row_indexer,col_indexer] = value instead\n",
      "\n",
      "See the caveats in the documentation: https://pandas.pydata.org/pandas-docs/stable/user_guide/indexing.html#returning-a-view-versus-a-copy\n",
      "  df[f\"{col}_rolling_skew\"] = df[f\"{col}\"].rolling(time_diff).skew()\n",
      "/Users/ronibendom/Projects/MLOps/data_processing/process_data.py:105: SettingWithCopyWarning: \n",
      "A value is trying to be set on a copy of a slice from a DataFrame.\n",
      "Try using .loc[row_indexer,col_indexer] = value instead\n",
      "\n",
      "See the caveats in the documentation: https://pandas.pydata.org/pandas-docs/stable/user_guide/indexing.html#returning-a-view-versus-a-copy\n",
      "  df[f\"{col}_rolling_skew\"] = df[f\"{col}\"].rolling(time_diff).skew()\n",
      "/Users/ronibendom/Projects/MLOps/data_processing/process_data.py:105: SettingWithCopyWarning: \n",
      "A value is trying to be set on a copy of a slice from a DataFrame.\n",
      "Try using .loc[row_indexer,col_indexer] = value instead\n",
      "\n",
      "See the caveats in the documentation: https://pandas.pydata.org/pandas-docs/stable/user_guide/indexing.html#returning-a-view-versus-a-copy\n",
      "  df[f\"{col}_rolling_skew\"] = df[f\"{col}\"].rolling(time_diff).skew()\n",
      "/Users/ronibendom/Projects/MLOps/data_processing/process_data.py:111: SettingWithCopyWarning: \n",
      "A value is trying to be set on a copy of a slice from a DataFrame.\n",
      "Try using .loc[row_indexer,col_indexer] = value instead\n",
      "\n",
      "See the caveats in the documentation: https://pandas.pydata.org/pandas-docs/stable/user_guide/indexing.html#returning-a-view-versus-a-copy\n",
      "  df[f\"{col}_rolling_variance\"] = df[f\"{col}\"].rolling(time_diff).var()\n",
      "/Users/ronibendom/Projects/MLOps/data_processing/process_data.py:111: SettingWithCopyWarning: \n",
      "A value is trying to be set on a copy of a slice from a DataFrame.\n",
      "Try using .loc[row_indexer,col_indexer] = value instead\n",
      "\n",
      "See the caveats in the documentation: https://pandas.pydata.org/pandas-docs/stable/user_guide/indexing.html#returning-a-view-versus-a-copy\n",
      "  df[f\"{col}_rolling_variance\"] = df[f\"{col}\"].rolling(time_diff).var()\n",
      "/Users/ronibendom/Projects/MLOps/data_processing/process_data.py:111: SettingWithCopyWarning: \n",
      "A value is trying to be set on a copy of a slice from a DataFrame.\n",
      "Try using .loc[row_indexer,col_indexer] = value instead\n",
      "\n",
      "See the caveats in the documentation: https://pandas.pydata.org/pandas-docs/stable/user_guide/indexing.html#returning-a-view-versus-a-copy\n",
      "  df[f\"{col}_rolling_variance\"] = df[f\"{col}\"].rolling(time_diff).var()\n",
      "/Users/ronibendom/Projects/MLOps/data_processing/process_data.py:111: SettingWithCopyWarning: \n",
      "A value is trying to be set on a copy of a slice from a DataFrame.\n",
      "Try using .loc[row_indexer,col_indexer] = value instead\n",
      "\n",
      "See the caveats in the documentation: https://pandas.pydata.org/pandas-docs/stable/user_guide/indexing.html#returning-a-view-versus-a-copy\n",
      "  df[f\"{col}_rolling_variance\"] = df[f\"{col}\"].rolling(time_diff).var()\n",
      "/Users/ronibendom/Projects/MLOps/data_processing/process_data.py:111: SettingWithCopyWarning: \n",
      "A value is trying to be set on a copy of a slice from a DataFrame.\n",
      "Try using .loc[row_indexer,col_indexer] = value instead\n",
      "\n",
      "See the caveats in the documentation: https://pandas.pydata.org/pandas-docs/stable/user_guide/indexing.html#returning-a-view-versus-a-copy\n",
      "  df[f\"{col}_rolling_variance\"] = df[f\"{col}\"].rolling(time_diff).var()\n",
      "/Users/ronibendom/Projects/MLOps/data_processing/process_data.py:111: SettingWithCopyWarning: \n",
      "A value is trying to be set on a copy of a slice from a DataFrame.\n",
      "Try using .loc[row_indexer,col_indexer] = value instead\n",
      "\n",
      "See the caveats in the documentation: https://pandas.pydata.org/pandas-docs/stable/user_guide/indexing.html#returning-a-view-versus-a-copy\n",
      "  df[f\"{col}_rolling_variance\"] = df[f\"{col}\"].rolling(time_diff).var()\n",
      "/Users/ronibendom/Projects/MLOps/data_processing/process_data.py:111: SettingWithCopyWarning: \n",
      "A value is trying to be set on a copy of a slice from a DataFrame.\n",
      "Try using .loc[row_indexer,col_indexer] = value instead\n",
      "\n",
      "See the caveats in the documentation: https://pandas.pydata.org/pandas-docs/stable/user_guide/indexing.html#returning-a-view-versus-a-copy\n",
      "  df[f\"{col}_rolling_variance\"] = df[f\"{col}\"].rolling(time_diff).var()\n",
      "/Users/ronibendom/Projects/MLOps/data_processing/process_data.py:111: SettingWithCopyWarning: \n",
      "A value is trying to be set on a copy of a slice from a DataFrame.\n",
      "Try using .loc[row_indexer,col_indexer] = value instead\n",
      "\n",
      "See the caveats in the documentation: https://pandas.pydata.org/pandas-docs/stable/user_guide/indexing.html#returning-a-view-versus-a-copy\n",
      "  df[f\"{col}_rolling_variance\"] = df[f\"{col}\"].rolling(time_diff).var()\n",
      "/Users/ronibendom/Projects/MLOps/data_processing/process_data.py:117: SettingWithCopyWarning: \n",
      "A value is trying to be set on a copy of a slice from a DataFrame.\n",
      "Try using .loc[row_indexer,col_indexer] = value instead\n",
      "\n",
      "See the caveats in the documentation: https://pandas.pydata.org/pandas-docs/stable/user_guide/indexing.html#returning-a-view-versus-a-copy\n",
      "  df[f\"{col}_rolling_std\"] = df[f\"{col}\"].rolling(time_diff).std()\n",
      "/Users/ronibendom/Projects/MLOps/data_processing/process_data.py:117: SettingWithCopyWarning: \n",
      "A value is trying to be set on a copy of a slice from a DataFrame.\n",
      "Try using .loc[row_indexer,col_indexer] = value instead\n",
      "\n",
      "See the caveats in the documentation: https://pandas.pydata.org/pandas-docs/stable/user_guide/indexing.html#returning-a-view-versus-a-copy\n",
      "  df[f\"{col}_rolling_std\"] = df[f\"{col}\"].rolling(time_diff).std()\n",
      "/Users/ronibendom/Projects/MLOps/data_processing/process_data.py:117: SettingWithCopyWarning: \n",
      "A value is trying to be set on a copy of a slice from a DataFrame.\n",
      "Try using .loc[row_indexer,col_indexer] = value instead\n",
      "\n",
      "See the caveats in the documentation: https://pandas.pydata.org/pandas-docs/stable/user_guide/indexing.html#returning-a-view-versus-a-copy\n",
      "  df[f\"{col}_rolling_std\"] = df[f\"{col}\"].rolling(time_diff).std()\n",
      "/Users/ronibendom/Projects/MLOps/data_processing/process_data.py:117: SettingWithCopyWarning: \n",
      "A value is trying to be set on a copy of a slice from a DataFrame.\n",
      "Try using .loc[row_indexer,col_indexer] = value instead\n",
      "\n",
      "See the caveats in the documentation: https://pandas.pydata.org/pandas-docs/stable/user_guide/indexing.html#returning-a-view-versus-a-copy\n",
      "  df[f\"{col}_rolling_std\"] = df[f\"{col}\"].rolling(time_diff).std()\n",
      "/Users/ronibendom/Projects/MLOps/data_processing/process_data.py:117: SettingWithCopyWarning: \n",
      "A value is trying to be set on a copy of a slice from a DataFrame.\n",
      "Try using .loc[row_indexer,col_indexer] = value instead\n",
      "\n",
      "See the caveats in the documentation: https://pandas.pydata.org/pandas-docs/stable/user_guide/indexing.html#returning-a-view-versus-a-copy\n",
      "  df[f\"{col}_rolling_std\"] = df[f\"{col}\"].rolling(time_diff).std()\n",
      "/Users/ronibendom/Projects/MLOps/data_processing/process_data.py:117: SettingWithCopyWarning: \n",
      "A value is trying to be set on a copy of a slice from a DataFrame.\n",
      "Try using .loc[row_indexer,col_indexer] = value instead\n",
      "\n",
      "See the caveats in the documentation: https://pandas.pydata.org/pandas-docs/stable/user_guide/indexing.html#returning-a-view-versus-a-copy\n",
      "  df[f\"{col}_rolling_std\"] = df[f\"{col}\"].rolling(time_diff).std()\n",
      "/Users/ronibendom/Projects/MLOps/data_processing/process_data.py:117: SettingWithCopyWarning: \n",
      "A value is trying to be set on a copy of a slice from a DataFrame.\n",
      "Try using .loc[row_indexer,col_indexer] = value instead\n",
      "\n",
      "See the caveats in the documentation: https://pandas.pydata.org/pandas-docs/stable/user_guide/indexing.html#returning-a-view-versus-a-copy\n",
      "  df[f\"{col}_rolling_std\"] = df[f\"{col}\"].rolling(time_diff).std()\n",
      "/Users/ronibendom/Projects/MLOps/data_processing/process_data.py:117: SettingWithCopyWarning: \n",
      "A value is trying to be set on a copy of a slice from a DataFrame.\n",
      "Try using .loc[row_indexer,col_indexer] = value instead\n",
      "\n",
      "See the caveats in the documentation: https://pandas.pydata.org/pandas-docs/stable/user_guide/indexing.html#returning-a-view-versus-a-copy\n",
      "  df[f\"{col}_rolling_std\"] = df[f\"{col}\"].rolling(time_diff).std()\n",
      "/Users/ronibendom/Projects/MLOps/data_processing/process_data.py:123: SettingWithCopyWarning: \n",
      "A value is trying to be set on a copy of a slice from a DataFrame.\n",
      "Try using .loc[row_indexer,col_indexer] = value instead\n",
      "\n",
      "See the caveats in the documentation: https://pandas.pydata.org/pandas-docs/stable/user_guide/indexing.html#returning-a-view-versus-a-copy\n",
      "  df[f\"{col}_rolling_kurtosis\"] = df[f\"{col}\"].rolling(time_diff).kurt()\n",
      "/Users/ronibendom/Projects/MLOps/data_processing/process_data.py:123: SettingWithCopyWarning: \n",
      "A value is trying to be set on a copy of a slice from a DataFrame.\n",
      "Try using .loc[row_indexer,col_indexer] = value instead\n",
      "\n",
      "See the caveats in the documentation: https://pandas.pydata.org/pandas-docs/stable/user_guide/indexing.html#returning-a-view-versus-a-copy\n",
      "  df[f\"{col}_rolling_kurtosis\"] = df[f\"{col}\"].rolling(time_diff).kurt()\n",
      "/Users/ronibendom/Projects/MLOps/data_processing/process_data.py:123: SettingWithCopyWarning: \n",
      "A value is trying to be set on a copy of a slice from a DataFrame.\n",
      "Try using .loc[row_indexer,col_indexer] = value instead\n",
      "\n",
      "See the caveats in the documentation: https://pandas.pydata.org/pandas-docs/stable/user_guide/indexing.html#returning-a-view-versus-a-copy\n",
      "  df[f\"{col}_rolling_kurtosis\"] = df[f\"{col}\"].rolling(time_diff).kurt()\n",
      "/Users/ronibendom/Projects/MLOps/data_processing/process_data.py:123: SettingWithCopyWarning: \n",
      "A value is trying to be set on a copy of a slice from a DataFrame.\n",
      "Try using .loc[row_indexer,col_indexer] = value instead\n",
      "\n",
      "See the caveats in the documentation: https://pandas.pydata.org/pandas-docs/stable/user_guide/indexing.html#returning-a-view-versus-a-copy\n",
      "  df[f\"{col}_rolling_kurtosis\"] = df[f\"{col}\"].rolling(time_diff).kurt()\n",
      "/Users/ronibendom/Projects/MLOps/data_processing/process_data.py:123: SettingWithCopyWarning: \n",
      "A value is trying to be set on a copy of a slice from a DataFrame.\n",
      "Try using .loc[row_indexer,col_indexer] = value instead\n",
      "\n",
      "See the caveats in the documentation: https://pandas.pydata.org/pandas-docs/stable/user_guide/indexing.html#returning-a-view-versus-a-copy\n",
      "  df[f\"{col}_rolling_kurtosis\"] = df[f\"{col}\"].rolling(time_diff).kurt()\n",
      "/Users/ronibendom/Projects/MLOps/data_processing/process_data.py:123: SettingWithCopyWarning: \n",
      "A value is trying to be set on a copy of a slice from a DataFrame.\n",
      "Try using .loc[row_indexer,col_indexer] = value instead\n",
      "\n",
      "See the caveats in the documentation: https://pandas.pydata.org/pandas-docs/stable/user_guide/indexing.html#returning-a-view-versus-a-copy\n",
      "  df[f\"{col}_rolling_kurtosis\"] = df[f\"{col}\"].rolling(time_diff).kurt()\n",
      "/Users/ronibendom/Projects/MLOps/data_processing/process_data.py:123: SettingWithCopyWarning: \n",
      "A value is trying to be set on a copy of a slice from a DataFrame.\n",
      "Try using .loc[row_indexer,col_indexer] = value instead\n",
      "\n",
      "See the caveats in the documentation: https://pandas.pydata.org/pandas-docs/stable/user_guide/indexing.html#returning-a-view-versus-a-copy\n",
      "  df[f\"{col}_rolling_kurtosis\"] = df[f\"{col}\"].rolling(time_diff).kurt()\n",
      "/Users/ronibendom/Projects/MLOps/data_processing/process_data.py:123: SettingWithCopyWarning: \n",
      "A value is trying to be set on a copy of a slice from a DataFrame.\n",
      "Try using .loc[row_indexer,col_indexer] = value instead\n",
      "\n",
      "See the caveats in the documentation: https://pandas.pydata.org/pandas-docs/stable/user_guide/indexing.html#returning-a-view-versus-a-copy\n",
      "  df[f\"{col}_rolling_kurtosis\"] = df[f\"{col}\"].rolling(time_diff).kurt()\n",
      "/Users/ronibendom/Projects/MLOps/data_processing/process_data.py:134: SettingWithCopyWarning: \n",
      "A value is trying to be set on a copy of a slice from a DataFrame\n",
      "\n",
      "See the caveats in the documentation: https://pandas.pydata.org/pandas-docs/stable/user_guide/indexing.html#returning-a-view-versus-a-copy\n",
      "  df.bfill(inplace=True)\n"
     ]
    }
   ],
   "source": [
    "x_train_valve1 = add_rolling_stats(x_train_valve1, '1min', x_train_valve1.columns)\n",
    "x_test_valve1 = add_rolling_stats(x_test_valve1, '1min', x_test_valve1.columns)\n",
    "x_train_valve2 = add_rolling_stats(x_train_valve2, '1min', x_train_valve2.columns)\n",
    "x_test_valve2 = add_rolling_stats(x_test_valve2, '1min', x_test_valve2.columns)\n",
    "x_train_other_anomaly = add_rolling_stats(x_train_other_anomaly, '1min', x_train_other_anomaly.columns)\n",
    "x_test_other_anomaly = add_rolling_stats(x_test_other_anomaly, '1min', x_test_other_anomaly.columns)\n"
   ]
  },
  {
   "cell_type": "markdown",
   "metadata": {},
   "source": [
    "__Winsorizer__"
   ]
  },
  {
   "cell_type": "code",
   "execution_count": 28,
   "metadata": {},
   "outputs": [],
   "source": [
    "wz = Winsorizer(capping_method='quantiles', tail='both', fold=3)"
   ]
  },
  {
   "cell_type": "code",
   "execution_count": 29,
   "metadata": {},
   "outputs": [],
   "source": [
    "# wz.fit(x_train_valve1)\n",
    "# x_train_valve1 = wz.transform(x_train_valve1)\n",
    "# x_test_valve1 = wz.transform(x_test_valve1)\n",
    "\n",
    "# wz.fit(x_train_valve2)\n",
    "# x_train_valve2 = wz.transform(x_train_valve2)\n",
    "# x_test_valve2 = wz.transform(x_test_valve2)\n",
    "\n",
    "# wz.fit(x_train_other_anomaly)\n",
    "# x_train_other_anomaly = wz.transform(x_train_other_anomaly)\n",
    "# x_test_other_anomaly = wz.transform(x_test_other_anomaly)"
   ]
  },
  {
   "cell_type": "markdown",
   "metadata": {},
   "source": [
    "__Standard scaler__"
   ]
  },
  {
   "cell_type": "code",
   "execution_count": 30,
   "metadata": {},
   "outputs": [],
   "source": [
    "sc = StandardScaler()"
   ]
  },
  {
   "cell_type": "code",
   "execution_count": 31,
   "metadata": {},
   "outputs": [],
   "source": [
    "sc.fit(x_train_valve1, y_train_valve1)\n",
    "x_train_valve1 = sc.transform(x_train_valve1)\n",
    "x_test_valve1 = sc.transform(x_test_valve1)\n",
    "\n",
    "sc.fit(x_train_valve2, y_train_valve2)\n",
    "x_train_valve2 = sc.transform(x_train_valve2)\n",
    "x_test_valve2 = sc.transform(x_test_valve2)\n",
    "\n",
    "sc.fit(x_train_other_anomaly, y_train_other_anomaly)\n",
    "x_train_other_anomaly = sc.transform(x_train_other_anomaly)\n",
    "x_test_other_anomaly = sc.transform(x_test_other_anomaly)"
   ]
  },
  {
   "cell_type": "markdown",
   "metadata": {},
   "source": [
    "__PCA__"
   ]
  },
  {
   "cell_type": "code",
   "execution_count": 32,
   "metadata": {},
   "outputs": [],
   "source": [
    "pca = PCA(n_components='mle', svd_solver='full')"
   ]
  },
  {
   "cell_type": "code",
   "execution_count": 33,
   "metadata": {},
   "outputs": [],
   "source": [
    "pca.fit(x_train_valve1, y_train_valve1)\n",
    "x_train_valve1 = pca.transform(x_train_valve1)\n",
    "x_test_valve1 = pca.transform(x_test_valve1)\n",
    "\n",
    "pca.fit(x_train_valve2, y_train_valve2)\n",
    "x_train_valve2 = pca.transform(x_train_valve2)\n",
    "x_test_valve2 = pca.transform(x_test_valve2)\n",
    "\n",
    "pca.fit(x_train_other_anomaly, y_train_other_anomaly)\n",
    "x_train_other_anomaly = pca.transform(x_train_other_anomaly)\n",
    "x_test_other_anomaly = pca.transform(x_test_other_anomaly)"
   ]
  },
  {
   "cell_type": "markdown",
   "metadata": {},
   "source": [
    "__RFE based on SVM__"
   ]
  },
  {
   "cell_type": "code",
   "execution_count": 34,
   "metadata": {},
   "outputs": [],
   "source": [
    "estimator = SVR(kernel=\"linear\")\n",
    "rfe = RFE(estimator, n_features_to_select=3, step=1)"
   ]
  },
  {
   "cell_type": "code",
   "execution_count": 35,
   "metadata": {},
   "outputs": [],
   "source": [
    "# rfe.fit(x_train_valve1, y_train_valve1)\n",
    "# x_train_valve1 = rfe.transform(x_train_valve1)\n",
    "# x_test_valve1 = rfe.transform(x_test_valve1)\n",
    "\n",
    "# rfe.fit(x_train_valve2, y_train_valve2)\n",
    "# x_train_valve2 = rfe.transform(x_train_valve2)\n",
    "# x_test_valve2 = rfe.transform(x_test_valve2)\n",
    "\n",
    "# rfe.fit(x_train_other_anomaly, y_train_other_anomaly)\n",
    "# x_train_other_anomaly = rfe.transform(x_train_other_anomaly)\n",
    "# x_test_other_anomaly = rfe.transform(x_test_other_anomaly)"
   ]
  },
  {
   "cell_type": "markdown",
   "metadata": {},
   "source": [
    "__Feature selection by single feature performance using random forest estimator__"
   ]
  },
  {
   "cell_type": "code",
   "execution_count": 36,
   "metadata": {},
   "outputs": [],
   "source": [
    "sfp = SelectBySingleFeaturePerformance(\n",
    "                    RandomForestClassifier(random_state=42),\n",
    "                    cv=2)"
   ]
  },
  {
   "cell_type": "code",
   "execution_count": 37,
   "metadata": {},
   "outputs": [],
   "source": [
    "sfp.fit(x_train_valve1, y_train_valve1)\n",
    "x_train_valve1 = sfp.transform(x_train_valve1)\n",
    "x_test_valve1 = sfp.transform(x_test_valve1)\n",
    "\n",
    "sfp.fit(x_train_valve2, y_train_valve2)\n",
    "x_train_valve2 = sfp.transform(x_train_valve2)\n",
    "x_test_valve2 = sfp.transform(x_test_valve2)\n",
    "\n",
    "sfp.fit(x_train_other_anomaly, y_train_other_anomaly)\n",
    "x_train_other_anomaly = sfp.transform(x_train_other_anomaly)\n",
    "x_test_other_anomaly = sfp.transform(x_test_other_anomaly)"
   ]
  },
  {
   "cell_type": "markdown",
   "metadata": {},
   "source": [
    "__Feature selection by information value__"
   ]
  },
  {
   "cell_type": "code",
   "execution_count": 38,
   "metadata": {},
   "outputs": [],
   "source": [
    "rfa = RecursiveFeatureAddition(RandomForestClassifier(random_state=42), cv=3)"
   ]
  },
  {
   "cell_type": "code",
   "execution_count": 39,
   "metadata": {},
   "outputs": [],
   "source": [
    "# rfa.fit(x_train_valve1, y_train_valve1)\n",
    "# x_train_valve1 = rfa.transform(x_train_valve1)\n",
    "# x_test_valve1 = rfa.transform(x_test_valve1)\n",
    "\n",
    "# rfa.fit(x_train_valve2, y_train_valve2)\n",
    "# x_train_valve2 = rfa.transform(x_train_valve2)\n",
    "# x_test_valve2 = rfa.transform(x_test_valve2)\n",
    "\n",
    "# rfa.fit(x_train_other_anomaly, y_train_other_anomaly)\n",
    "# x_train_other_anomaly = rfa.transform(x_train_other_anomaly)\n",
    "# x_test_other_anomaly = rfa.transform(x_test_other_anomaly)"
   ]
  },
  {
   "cell_type": "markdown",
   "metadata": {},
   "source": [
    "__Smart correlated features__"
   ]
  },
  {
   "cell_type": "code",
   "execution_count": 40,
   "metadata": {},
   "outputs": [],
   "source": [
    "scs = SmartCorrelatedSelection(threshold=0.8)"
   ]
  },
  {
   "cell_type": "code",
   "execution_count": 41,
   "metadata": {},
   "outputs": [],
   "source": [
    "# print(f'valve 1 dataset number of columns: {x_train_valve1.shape[1]}')\n",
    "# print(f'valve 2 dataset number of columns: {x_train_valve2.shape[1]}')\n",
    "# print(f'other animalies dataset number of columns: {x_train_other_anomaly.shape[1]}')\n",
    "\n",
    "# scs.fit(x_train_valve1, y_train_valve1)\n",
    "# x_train_valve1 = scs.transform(x_train_valve1)\n",
    "# x_test_valve1 = scs.transform(x_test_valve1)\n",
    "\n",
    "# scs.fit(x_train_valve2, y_train_valve2)\n",
    "# x_train_valve2 = scs.transform(x_train_valve2)\n",
    "# x_test_valve2 = scs.transform(x_test_valve2)\n",
    "\n",
    "# scs.fit(x_train_other_anomaly, y_train_other_anomaly)\n",
    "# x_train_other_anomaly = scs.transform(x_train_other_anomaly)\n",
    "# x_test_other_anomaly = scs.transform(x_test_other_anomaly)\n",
    "\n",
    "# print('********************* Drop correlated columns *********************')\n",
    "# print(f'valve 1 dataset number of columns: {x_train_valve1.shape[1]}')\n",
    "# print(f'valve 2 dataset number of columns: {x_train_valve2.shape[1]}')\n",
    "# print(f'other animalies dataset number of columns: {x_train_other_anomaly.shape[1]}')"
   ]
  },
  {
   "cell_type": "markdown",
   "metadata": {},
   "source": [
    "## Retest models\n"
   ]
  },
  {
   "cell_type": "code",
   "execution_count": 42,
   "metadata": {},
   "outputs": [],
   "source": [
    "# x_train_steps_valve1 = create_sequences(np.array([row.values for i, row in x_train_valve1.iterrows()]), N_STEPS)\n",
    "# x_test_steps_valve1 = create_sequences(np.array([row.values for i, row in x_test_valve1.iterrows()]), N_STEPS)\n",
    "x_train_steps_valve1 = create_sequences(x_train_valve1, N_STEPS)\n",
    "x_test_steps_valve1 = create_sequences(x_test_valve1, N_STEPS)\n",
    "\n",
    "# x_train_steps_valve2 = create_sequences(np.array([row.values for i, row in x_train_valve2.iterrows()]), N_STEPS)\n",
    "# x_test_steps_valve2 = create_sequences(np.array([row.values for i, row in x_test_valve2.iterrows()]), N_STEPS)\n",
    "x_train_steps_valve2 = create_sequences(x_train_valve2, N_STEPS)\n",
    "x_test_steps_valve2 = create_sequences(x_test_valve2, N_STEPS)\n",
    "\n",
    "# x_train_steps_other_anomaly = create_sequences(np.array([row.values for i, row in x_train_other_anomaly.iterrows()]), N_STEPS)\n",
    "# x_test_steps_other_anomaly = create_sequences(np.array([row.values for i, row in x_test_other_anomaly.iterrows()]), N_STEPS)\n",
    "x_train_steps_other_anomaly = create_sequences(x_train_other_anomaly, N_STEPS)\n",
    "x_test_steps_other_anomaly = create_sequences(x_test_other_anomaly, N_STEPS)\n"
   ]
  },
  {
   "cell_type": "markdown",
   "metadata": {},
   "source": [
    "#### Test model for valve 1"
   ]
  },
  {
   "cell_type": "code",
   "execution_count": 43,
   "metadata": {},
   "outputs": [
    {
     "name": "stderr",
     "output_type": "stream",
     "text": [
      "WARNING:absl:At this time, the v2.11+ optimizer `tf.keras.optimizers.Adam` runs slowly on M1/M2 Macs, please use the legacy Keras optimizer instead, located at `tf.keras.optimizers.legacy.Adam`.\n"
     ]
    },
    {
     "name": "stdout",
     "output_type": "stream",
     "text": [
      "451/451 [==============================] - 1s 2ms/step\n"
     ]
    }
   ],
   "source": [
    "model.fit(x_train_steps_valve1)\n",
    "\n",
    "# results predicting\n",
    "residuals = pd.Series(np.sum(np.mean(np.abs(x_train_steps_valve1 - model.predict(x_train_steps_valve1)), axis=1), axis=1))\n",
    "UCL = residuals.quantile(Q)"
   ]
  },
  {
   "cell_type": "code",
   "execution_count": 44,
   "metadata": {},
   "outputs": [
    {
     "name": "stdout",
     "output_type": "stream",
     "text": [
      "451/451 [==============================] - 1s 2ms/step\n",
      "110/110 [==============================] - 0s 2ms/step\n"
     ]
    }
   ],
   "source": [
    "# train prediction\n",
    "cnn_residuals = pd.Series(np.sum(np.mean(np.abs(x_train_steps_valve1 - model.predict(x_train_steps_valve1)), axis=1), axis=1))\n",
    "\n",
    "# data i is an anomaly if samples [(i - timesteps + 1) to (i)] are anomalies\n",
    "anomalous_data = cnn_residuals > UCL\n",
    "anomalous_data_indices = []\n",
    "for data_idx in range(N_STEPS - 1, len(x_train_steps_valve1) - N_STEPS + 1):\n",
    "    if np.all(anomalous_data[data_idx - N_STEPS + 1 : data_idx]):\n",
    "        anomalous_data_indices.append(data_idx)\n",
    "\n",
    "yhat_train = pd.Series(data=0, index=np.arange(len(x_train_valve1)))\n",
    "yhat_train.iloc[anomalous_data_indices] = 1\n",
    "\n",
    "\n",
    "# test prediction\n",
    "cnn_residuals = pd.Series(np.sum(np.mean(np.abs(x_test_steps_valve1 - model.predict(x_test_steps_valve1)), axis=1), axis=1))\n",
    "\n",
    "# data i is an anomaly if samples [(i - timesteps + 1) to (i)] are anomalies\n",
    "anomalous_data = cnn_residuals > UCL\n",
    "anomalous_data_indices = []\n",
    "for data_idx in range(N_STEPS - 1, len(x_test_steps_valve1) - N_STEPS + 1):\n",
    "    if np.all(anomalous_data[data_idx - N_STEPS + 1 : data_idx]):\n",
    "        anomalous_data_indices.append(data_idx)\n",
    "\n",
    "yhat_test = pd.Series(data=0, index=np.arange(len(x_test_valve1)))\n",
    "yhat_test.iloc[anomalous_data_indices] = 1"
   ]
  },
  {
   "cell_type": "code",
   "execution_count": 45,
   "metadata": {},
   "outputs": [
    {
     "name": "stdout",
     "output_type": "stream",
     "text": [
      "Training accuracy 0.5240\n",
      "Testing accuracy 0.7790\n"
     ]
    }
   ],
   "source": [
    "print('Training accuracy {:.4f}'.format(accuracy_score(y_train_valve1, yhat_train)))\n",
    "print('Testing accuracy {:.4f}'.format(accuracy_score(y_test_valve1, yhat_test)))"
   ]
  },
  {
   "cell_type": "code",
   "execution_count": 46,
   "metadata": {},
   "outputs": [
    {
     "name": "stdout",
     "output_type": "stream",
     "text": [
      "Accuracy: 0.778971\n",
      "Precision: 0.626021\n",
      "Recall: 0.868826\n",
      "F1 score: 0.727704\n"
     ]
    }
   ],
   "source": [
    "accuracy = accuracy_score(y_test_valve1, yhat_test)\n",
    "print('Accuracy: %f' % accuracy)\n",
    "# precision tp / (tp + fp)\n",
    "precision = precision_score(y_test_valve1, yhat_test)\n",
    "print('Precision: %f' % precision)\n",
    "# recall: tp / (tp + fn)\n",
    "recall = recall_score(y_test_valve1, yhat_test)\n",
    "print('Recall: %f' % recall)\n",
    "# f1: 2 tp / (2 tp + fp + fn)\n",
    "f1 = f1_score(y_test_valve1, yhat_test)\n",
    "print('F1 score: %f' % f1)"
   ]
  },
  {
   "cell_type": "code",
   "execution_count": 47,
   "metadata": {},
   "outputs": [
    {
     "name": "stdout",
     "output_type": "stream",
     "text": [
      "False Alarm Rate: 0.2673060884070058\n",
      "Missing Alarm Rate: 0.1311740890688259\n"
     ]
    }
   ],
   "source": [
    "conf_matrix = metrics.confusion_matrix(y_test_valve1, yhat_test)\n",
    "\n",
    "TN, FP, FN, TP = conf_matrix.ravel()\n",
    "\n",
    "# Sensitivity, hit rate, recall, or true positive rate\n",
    "TPR = TP/(TP+FN)\n",
    "# Specificity or true negative rate\n",
    "TNR = TN/(TN+FP) \n",
    "# Precision or positive predictive value\n",
    "PPV = TP/(TP+FP)\n",
    "# Negative predictive value\n",
    "NPV = TN/(TN+FN)\n",
    "# Fall out or false positive rate FAR false alarm rate\n",
    "FPR = FP/(FP+TN)\n",
    "# False negative rate MAR missing alarm rate\n",
    "FNR = FN/(TP+FN)\n",
    "# False discovery rate\n",
    "FDR = FP/(TP+FP)\n",
    "\n",
    "# Overall accuracy\n",
    "ACC = (TP+TN)/(TP+FP+FN+TN)\n",
    "\n",
    "print(f'False Alarm Rate: {FPR}')\n",
    "print(f'Missing Alarm Rate: {FNR}')"
   ]
  },
  {
   "cell_type": "code",
   "execution_count": 48,
   "metadata": {},
   "outputs": [
    {
     "name": "stdout",
     "output_type": "stream",
     "text": [
      "              precision    recall  f1-score   support\n",
      "\n",
      "         0.0       0.92      0.73      0.81      2398\n",
      "         1.0       0.63      0.87      0.73      1235\n",
      "\n",
      "    accuracy                           0.78      3633\n",
      "   macro avg       0.77      0.80      0.77      3633\n",
      "weighted avg       0.82      0.78      0.78      3633\n",
      "\n"
     ]
    }
   ],
   "source": [
    "print(metrics.classification_report(y_test_valve1,yhat_test))"
   ]
  },
  {
   "cell_type": "markdown",
   "metadata": {},
   "source": [
    "#### Test model for valve 2"
   ]
  },
  {
   "cell_type": "code",
   "execution_count": 49,
   "metadata": {},
   "outputs": [
    {
     "name": "stderr",
     "output_type": "stream",
     "text": [
      "WARNING:absl:At this time, the v2.11+ optimizer `tf.keras.optimizers.Adam` runs slowly on M1/M2 Macs, please use the legacy Keras optimizer instead, located at `tf.keras.optimizers.legacy.Adam`.\n"
     ]
    },
    {
     "name": "stdout",
     "output_type": "stream",
     "text": [
      "105/105 [==============================] - 0s 2ms/step\n"
     ]
    }
   ],
   "source": [
    "model.fit(x_train_steps_valve2)\n",
    "\n",
    "# results predicting\n",
    "residuals = pd.Series(np.sum(np.mean(np.abs(x_train_steps_valve2 - model.predict(x_train_steps_valve2)), axis=1), axis=1))\n",
    "UCL = residuals.quantile(Q)"
   ]
  },
  {
   "cell_type": "code",
   "execution_count": 50,
   "metadata": {},
   "outputs": [
    {
     "name": "stdout",
     "output_type": "stream",
     "text": [
      "105/105 [==============================] - 0s 2ms/step\n",
      "24/24 [==============================] - 0s 2ms/step\n"
     ]
    }
   ],
   "source": [
    "# train prediction\n",
    "cnn_residuals = pd.Series(np.sum(np.mean(np.abs(x_train_steps_valve2 - model.predict(x_train_steps_valve2)), axis=1), axis=1))\n",
    "\n",
    "# data i is an anomaly if samples [(i - timesteps + 1) to (i)] are anomalies\n",
    "anomalous_data = cnn_residuals > UCL\n",
    "anomalous_data_indices = []\n",
    "for data_idx in range(N_STEPS - 1, len(x_train_steps_valve2) - N_STEPS + 1):\n",
    "    if np.all(anomalous_data[data_idx - N_STEPS + 1 : data_idx]):\n",
    "        anomalous_data_indices.append(data_idx)\n",
    "\n",
    "yhat_train = pd.Series(data=0, index=np.arange(len(x_train_valve2)))\n",
    "yhat_train.iloc[anomalous_data_indices] = 1\n",
    "\n",
    "\n",
    "# test prediction\n",
    "cnn_residuals = pd.Series(np.sum(np.mean(np.abs(x_test_steps_valve2 - model.predict(x_test_steps_valve2)), axis=1), axis=1))\n",
    "\n",
    "# data i is an anomaly if samples [(i - timesteps + 1) to (i)] are anomalies\n",
    "anomalous_data = cnn_residuals > UCL\n",
    "anomalous_data_indices = []\n",
    "for data_idx in range(N_STEPS - 1, len(x_test_steps_valve2) - N_STEPS + 1):\n",
    "    if np.all(anomalous_data[data_idx - N_STEPS + 1 : data_idx]):\n",
    "        anomalous_data_indices.append(data_idx)\n",
    "\n",
    "yhat_test = pd.Series(data=0, index=np.arange(len(x_test_valve2)))\n",
    "yhat_test.iloc[anomalous_data_indices] = 1\n",
    "  \n",
    "  "
   ]
  },
  {
   "cell_type": "code",
   "execution_count": 51,
   "metadata": {},
   "outputs": [
    {
     "name": "stdout",
     "output_type": "stream",
     "text": [
      "Training accuracy 0.7979\n",
      "Testing accuracy 0.6744\n"
     ]
    }
   ],
   "source": [
    "print('Training accuracy {:.4f}'.format(accuracy_score(y_train_valve2, yhat_train)))\n",
    "print('Testing accuracy {:.4f}'.format(accuracy_score(y_test_valve2, yhat_test)))"
   ]
  },
  {
   "cell_type": "code",
   "execution_count": 52,
   "metadata": {},
   "outputs": [
    {
     "name": "stdout",
     "output_type": "stream",
     "text": [
      "Accuracy: 0.674392\n",
      "Precision: 0.860759\n",
      "Recall: 0.344304\n",
      "F1 score: 0.491863\n"
     ]
    }
   ],
   "source": [
    "accuracy = accuracy_score(y_test_valve2, yhat_test)\n",
    "print('Accuracy: %f' % accuracy)\n",
    "# precision tp / (tp + fp)\n",
    "precision = precision_score(y_test_valve2, yhat_test)\n",
    "print('Precision: %f' % precision)\n",
    "# recall: tp / (tp + fn)\n",
    "recall = recall_score(y_test_valve2, yhat_test)\n",
    "print('Recall: %f' % recall)\n",
    "# f1: 2 tp / (2 tp + fp + fn)\n",
    "f1 = f1_score(y_test_valve2, yhat_test)\n",
    "print('F1 score: %f' % f1)"
   ]
  },
  {
   "cell_type": "code",
   "execution_count": 53,
   "metadata": {},
   "outputs": [
    {
     "name": "stdout",
     "output_type": "stream",
     "text": [
      "False Alarm Rate: 0.04700854700854701\n",
      "Missing Alarm Rate: 0.6556962025316456\n"
     ]
    }
   ],
   "source": [
    "conf_matrix = metrics.confusion_matrix(y_test_valve2, yhat_test)\n",
    "\n",
    "TN, FP, FN, TP = conf_matrix.ravel()\n",
    "\n",
    "# Sensitivity, hit rate, recall, or true positive rate\n",
    "TPR = TP/(TP+FN)\n",
    "# Specificity or true negative rate\n",
    "TNR = TN/(TN+FP) \n",
    "# Precision or positive predictive value\n",
    "PPV = TP/(TP+FP)\n",
    "# Negative predictive value\n",
    "NPV = TN/(TN+FN)\n",
    "# Fall out or false positive rate FAR false alarm rate\n",
    "FPR = FP/(FP+TN)\n",
    "# False negative rate MAR missing alarm rate\n",
    "FNR = FN/(TP+FN)\n",
    "# False discovery rate\n",
    "FDR = FP/(TP+FP)\n",
    "\n",
    "# Overall accuracy\n",
    "ACC = (TP+TN)/(TP+FP+FN+TN)\n",
    "\n",
    "print(f'False Alarm Rate: {FPR}')\n",
    "print(f'Missing Alarm Rate: {FNR}')"
   ]
  },
  {
   "cell_type": "code",
   "execution_count": 54,
   "metadata": {},
   "outputs": [
    {
     "name": "stdout",
     "output_type": "stream",
     "text": [
      "              precision    recall  f1-score   support\n",
      "\n",
      "         0.0       0.63      0.95      0.76       468\n",
      "         1.0       0.86      0.34      0.49       395\n",
      "\n",
      "    accuracy                           0.67       863\n",
      "   macro avg       0.75      0.65      0.63       863\n",
      "weighted avg       0.74      0.67      0.64       863\n",
      "\n"
     ]
    }
   ],
   "source": [
    "print(metrics.classification_report(y_test_valve2,yhat_test))"
   ]
  },
  {
   "cell_type": "markdown",
   "metadata": {},
   "source": [
    "#### Test model for other anomalies"
   ]
  },
  {
   "cell_type": "code",
   "execution_count": 55,
   "metadata": {},
   "outputs": [
    {
     "name": "stderr",
     "output_type": "stream",
     "text": [
      "WARNING:absl:At this time, the v2.11+ optimizer `tf.keras.optimizers.Adam` runs slowly on M1/M2 Macs, please use the legacy Keras optimizer instead, located at `tf.keras.optimizers.legacy.Adam`.\n"
     ]
    },
    {
     "name": "stdout",
     "output_type": "stream",
     "text": [
      "358/358 [==============================] - 1s 2ms/step\n"
     ]
    }
   ],
   "source": [
    "model.fit(x_train_steps_other_anomaly)\n",
    "\n",
    "# results predicting\n",
    "residuals = pd.Series(np.sum(np.mean(np.abs(x_train_steps_other_anomaly - model.predict(x_train_steps_other_anomaly)), axis=1), axis=1))\n",
    "UCL = residuals.quantile(Q)"
   ]
  },
  {
   "cell_type": "code",
   "execution_count": 56,
   "metadata": {},
   "outputs": [
    {
     "name": "stdout",
     "output_type": "stream",
     "text": [
      "358/358 [==============================] - 1s 2ms/step\n",
      "90/90 [==============================] - 0s 2ms/step\n"
     ]
    }
   ],
   "source": [
    "# train prediction\n",
    "cnn_residuals = pd.Series(np.sum(np.mean(np.abs(x_train_steps_other_anomaly - model.predict(x_train_steps_other_anomaly)), axis=1), axis=1))\n",
    "\n",
    "# data i is an anomaly if samples [(i - timesteps + 1) to (i)] are anomalies\n",
    "anomalous_data = cnn_residuals > UCL\n",
    "anomalous_data_indices = []\n",
    "for data_idx in range(N_STEPS - 1, len(x_train_steps_other_anomaly) - N_STEPS + 1):\n",
    "    if np.all(anomalous_data[data_idx - N_STEPS + 1 : data_idx]):\n",
    "        anomalous_data_indices.append(data_idx)\n",
    "\n",
    "yhat_train = pd.Series(data=0, index=np.arange(len(x_train_other_anomaly)))\n",
    "yhat_train.iloc[anomalous_data_indices] = 1\n",
    "\n",
    "\n",
    "# test prediction\n",
    "cnn_residuals = pd.Series(np.sum(np.mean(np.abs(x_test_steps_other_anomaly - model.predict(x_test_steps_other_anomaly)), axis=1), axis=1))\n",
    "\n",
    "# data i is an anomaly if samples [(i - timesteps + 1) to (i)] are anomalies\n",
    "anomalous_data = cnn_residuals > UCL\n",
    "anomalous_data_indices = []\n",
    "for data_idx in range(N_STEPS - 1, len(x_test_steps_other_anomaly) - N_STEPS + 1):\n",
    "    if np.all(anomalous_data[data_idx - N_STEPS + 1 : data_idx]):\n",
    "        anomalous_data_indices.append(data_idx)\n",
    "\n",
    "yhat_test = pd.Series(data=0, index=np.arange(len(x_test_other_anomaly)))\n",
    "yhat_test.iloc[anomalous_data_indices] = 1\n",
    "  \n",
    "  "
   ]
  },
  {
   "cell_type": "code",
   "execution_count": 57,
   "metadata": {},
   "outputs": [
    {
     "name": "stdout",
     "output_type": "stream",
     "text": [
      "Training accuracy 0.5701\n",
      "Testing accuracy 0.3627\n"
     ]
    }
   ],
   "source": [
    "print('Training accuracy {:.4f}'.format(accuracy_score(y_train_other_anomaly, yhat_train)))\n",
    "print('Testing accuracy {:.4f}'.format(accuracy_score(y_test_other_anomaly, yhat_test)))"
   ]
  },
  {
   "cell_type": "code",
   "execution_count": 58,
   "metadata": {},
   "outputs": [
    {
     "name": "stdout",
     "output_type": "stream",
     "text": [
      "Accuracy: 0.362696\n",
      "Precision: 0.398485\n",
      "Recall: 0.765648\n",
      "F1 score: 0.524165\n"
     ]
    }
   ],
   "source": [
    "accuracy = accuracy_score(y_test_other_anomaly, yhat_test)\n",
    "print('Accuracy: %f' % accuracy)\n",
    "# precision tp / (tp + fp)\n",
    "precision = precision_score(y_test_other_anomaly, yhat_test)\n",
    "print('Precision: %f' % precision)\n",
    "# recall: tp / (tp + fn)\n",
    "recall = recall_score(y_test_other_anomaly, yhat_test)\n",
    "print('Recall: %f' % recall)\n",
    "# f1: 2 tp / (2 tp + fp + fn)\n",
    "f1 = f1_score(y_test_other_anomaly, yhat_test)\n",
    "print('F1 score: %f' % f1)"
   ]
  },
  {
   "cell_type": "code",
   "execution_count": 59,
   "metadata": {},
   "outputs": [
    {
     "name": "stdout",
     "output_type": "stream",
     "text": [
      "False Alarm Rate: 0.9784349969192853\n",
      "Missing Alarm Rate: 0.23435225618631733\n"
     ]
    }
   ],
   "source": [
    "conf_matrix = metrics.confusion_matrix(y_test_other_anomaly, yhat_test)\n",
    "\n",
    "TN, FP, FN, TP = conf_matrix.ravel()\n",
    "\n",
    "# Sensitivity, hit rate, recall, or true positive rate\n",
    "TPR = TP/(TP+FN)\n",
    "# Specificity or true negative rate\n",
    "TNR = TN/(TN+FP) \n",
    "# Precision or positive predictive value\n",
    "PPV = TP/(TP+FP)\n",
    "# Negative predictive value\n",
    "NPV = TN/(TN+FN)\n",
    "# Fall out or false positive rate FAR false alarm rate\n",
    "FPR = FP/(FP+TN)\n",
    "# False negative rate MAR missing alarm rate\n",
    "FNR = FN/(TP+FN)\n",
    "# False discovery rate\n",
    "FDR = FP/(TP+FP)\n",
    "\n",
    "# Overall accuracy\n",
    "ACC = (TP+TN)/(TP+FP+FN+TN)\n",
    "\n",
    "print(f'False Alarm Rate: {FPR}')\n",
    "print(f'Missing Alarm Rate: {FNR}')"
   ]
  },
  {
   "cell_type": "code",
   "execution_count": 60,
   "metadata": {},
   "outputs": [
    {
     "name": "stdout",
     "output_type": "stream",
     "text": [
      "              precision    recall  f1-score   support\n",
      "\n",
      "         0.0       0.10      0.02      0.04      1623\n",
      "         1.0       0.40      0.77      0.52      1374\n",
      "\n",
      "    accuracy                           0.36      2997\n",
      "   macro avg       0.25      0.39      0.28      2997\n",
      "weighted avg       0.24      0.36      0.26      2997\n",
      "\n"
     ]
    }
   ],
   "source": [
    "print(metrics.classification_report(y_test_other_anomaly,yhat_test))"
   ]
  },
  {
   "cell_type": "code",
   "execution_count": null,
   "metadata": {},
   "outputs": [],
   "source": []
  }
 ],
 "metadata": {
  "kernelspec": {
   "display_name": "school_env",
   "language": "python",
   "name": "python3"
  },
  "language_info": {
   "codemirror_mode": {
    "name": "ipython",
    "version": 3
   },
   "file_extension": ".py",
   "mimetype": "text/x-python",
   "name": "python",
   "nbconvert_exporter": "python",
   "pygments_lexer": "ipython3",
   "version": "3.11.7"
  }
 },
 "nbformat": 4,
 "nbformat_minor": 2
}
